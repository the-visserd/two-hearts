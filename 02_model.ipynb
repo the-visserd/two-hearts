{
 "cells": [
  {
   "cell_type": "code",
   "execution_count": 1,
   "metadata": {
    "colab": {
     "base_uri": "https://localhost:8080/"
    },
    "executionInfo": {
     "elapsed": 1985,
     "status": "ok",
     "timestamp": 1658668526211,
     "user": {
      "displayName": "Thou Mightst",
      "userId": "08013796147118011125"
     },
     "user_tz": -120
    },
    "id": "W4yMu0MJkcft",
    "outputId": "b0fe2542-f5f3-4691-f721-129b6d5dd86f"
   },
   "outputs": [
    {
     "name": "stdout",
     "output_type": "stream",
     "text": [
      "Running on CoLab\n",
      "Drive already mounted at /content/drive/; to attempt to forcibly remount, call drive.mount(\"/content/drive/\", force_remount=True).\n"
     ]
    }
   ],
   "source": [
    "# For Google Colab / local machine\n",
    "if 'google.colab' in str(get_ipython()):\n",
    "    print('Running on CoLab')\n",
    "    from google.colab import drive\n",
    "    drive.mount('/content/drive/')\n",
    "    colab_path = \"/content/drive/MyDrive/Masterarbeit/Code/two-hearts/\"\n",
    "    import sys \n",
    "    sys.path.append(colab_path)\n",
    "else:\n",
    "    print('Not running on CoLab')\n",
    "    colab_path = \"\""
   ]
  },
  {
   "cell_type": "code",
   "execution_count": 2,
   "metadata": {
    "colab": {
     "base_uri": "https://localhost:8080/"
    },
    "executionInfo": {
     "elapsed": 5831,
     "status": "ok",
     "timestamp": 1658668532036,
     "user": {
      "displayName": "Thou Mightst",
      "userId": "08013796147118011125"
     },
     "user_tz": -120
    },
    "id": "JXC8BydxC-zA",
    "outputId": "6b432c29-f279-4ab9-d0ac-a8fa6b3a5bdb"
   },
   "outputs": [
    {
     "name": "stdout",
     "output_type": "stream",
     "text": [
      "TensorFlow version: 2.8.2\n"
     ]
    }
   ],
   "source": [
    "# Import libraries\n",
    "import os\n",
    "import datetime\n",
    "import random\n",
    "import pickle\n",
    "import IPython\n",
    "import IPython.display\n",
    "import numpy as np\n",
    "from numpy import array, hstack\n",
    "import pandas as pd\n",
    "from copy import deepcopy\n",
    "import matplotlib.pyplot as plt\n",
    "import seaborn as sns\n",
    "import tensorflow\n",
    "from tensorflow.python.keras.layers import deserialize, serialize\n",
    "from tensorflow.python.keras.saving import saving_utils\n",
    "from tensorflow.keras.models import Sequential, Model, load_model\n",
    "from tensorflow.keras.layers import LSTM, Dense, RepeatVector,\\\n",
    "    TimeDistributed, Input, BatchNormalization, multiply,\\\n",
    "    concatenate, Flatten, Activation, dot\n",
    "from tensorflow.keras.optimizers import Adam\n",
    "from tensorflow.keras.utils import plot_model\n",
    "from tensorflow.keras.callbacks import EarlyStopping\n",
    "import pydot as pyd\n",
    "from tensorflow.keras.utils import plot_model, model_to_dot\n",
    "tensorflow.keras.utils.pydot = pyd\n",
    "\n",
    "# Import lists\n",
    "from lists import dyads, num_dyads, participants, num_participants\n",
    "\n",
    "print(\"TensorFlow version:\", tensorflow.version.VERSION)"
   ]
  },
  {
   "cell_type": "code",
   "execution_count": 3,
   "metadata": {
    "executionInfo": {
     "elapsed": 11,
     "status": "ok",
     "timestamp": 1658668532037,
     "user": {
      "displayName": "Thou Mightst",
      "userId": "08013796147118011125"
     },
     "user_tz": -120
    },
    "id": "SL0-lMWtAS3r"
   },
   "outputs": [],
   "source": [
    "def seed_value(seed):\n",
    "    \"\"\"Function for controlling random number generator\n",
    "    \"\"\"\n",
    "    os.environ['PYTHONHASHSEED'] = str(seed)\n",
    "    random.seed(seed)\n",
    "    np.random.seed(seed)\n",
    "    tensorflow.random.set_seed(seed)"
   ]
  },
  {
   "cell_type": "markdown",
   "metadata": {
    "id": "iYhFodT5C-y_"
   },
   "source": [
    "## Deep Learning"
   ]
  },
  {
   "cell_type": "code",
   "execution_count": 4,
   "metadata": {
    "colab": {
     "base_uri": "https://localhost:8080/"
    },
    "executionInfo": {
     "elapsed": 10,
     "status": "ok",
     "timestamp": 1658668532038,
     "user": {
      "displayName": "Thou Mightst",
      "userId": "08013796147118011125"
     },
     "user_tz": -120
    },
    "id": "YT9ANStQiIMB",
    "outputId": "3ca40b6b-c33d-4400-c199-d11c5d16d628"
   },
   "outputs": [
    {
     "name": "stdout",
     "output_type": "stream",
     "text": [
      "Sampling rate: 50\n",
      "Time steps: 250 100\n",
      "Conditions: ['sit', 'gaze', 'gaze_swap']\n",
      "Participants: 8\n",
      "Dyads: 4\n",
      "Number of training runs: 5\n"
     ]
    }
   ],
   "source": [
    "# Set sampling rate\n",
    "sampling_rate = 50\n",
    "print(\"Sampling rate:\", sampling_rate)\n",
    "\n",
    "# Set number of time steps\n",
    "n_steps_in, n_steps_out = 5*sampling_rate, 2*sampling_rate\n",
    "print(\"Time steps:\", n_steps_in, n_steps_out)\n",
    "\n",
    "# Set conditions\n",
    "conditions = [\"sit\", \"gaze\", \"gaze_swap\"]\n",
    "print(\"Conditions:\", conditions)\n",
    "\n",
    "# Show number of participants\n",
    "print(\"Participants:\", num_participants)\n",
    "\n",
    "# Show number of dyads\n",
    "print(\"Dyads:\", num_dyads)\n",
    "\n",
    "# Set number of runs\n",
    "runs = [\"01\", \"02\", \"03\",\"04\",\"05\"]\n",
    "\n",
    "print(\"Number of training runs:\", len(runs))"
   ]
  },
  {
   "cell_type": "code",
   "execution_count": 5,
   "metadata": {
    "executionInfo": {
     "elapsed": 333,
     "status": "ok",
     "timestamp": 1658668532363,
     "user": {
      "displayName": "Thou Mightst",
      "userId": "08013796147118011125"
     },
     "user_tz": -120
    },
    "id": "gCmGEuUyKyFc"
   },
   "outputs": [],
   "source": [
    "# Prepare sample data\n",
    "def sample_preparation(condition):\n",
    "\n",
    "    # Load data\n",
    "    data = np.load(f\"{colab_path}data/data_{condition}.npy\")\n",
    "    print(f\"Loaded data with shape {data.shape} and type {data.dtype}\")\n",
    "\n",
    "    # Create empty samples\n",
    "    X_input_train = np.empty(\n",
    "        (0, n_steps_in, 2))\n",
    "    X_input_vali = np.empty(\n",
    "        (0, n_steps_in, 2))\n",
    "    X_input_test = np.empty(\n",
    "        (0, n_steps_in, 2))\n",
    "    y_output_train = np.empty(\n",
    "        (0, n_steps_out, 2))\n",
    "    y_output_vali = np.empty(\n",
    "        (0, n_steps_out, 2))\n",
    "    y_output_test = np.empty(\n",
    "        (0, n_steps_out, 2))\n",
    "\n",
    "    # Split a multivariate sequence into samples (modified from Brownlee 2018, p.156)\n",
    "    def split_sequences(\n",
    "            sequences,\n",
    "            n_steps_in,\n",
    "            n_steps_out):\n",
    "        X, y = list(), list()\n",
    "        for i in range(len(sequences)):\n",
    "            if i % (sampling_rate) == 0:  # to reduce redundancy in samples\n",
    "                # find the end of this pattern\n",
    "                end_ix = i + n_steps_in\n",
    "                out_end_ix = end_ix + n_steps_out\n",
    "                # check if we are beyond the dataset\n",
    "                if out_end_ix > len(sequences):\n",
    "                    break\n",
    "                # gather input and output parts of the pattern\n",
    "                seq_x, seq_y = sequences[i:end_ix,:], sequences[end_ix:out_end_ix,:]\n",
    "                X.append(seq_x)\n",
    "                y.append(seq_y)\n",
    "        return array(X), array(y)\n",
    "\n",
    "    # index for dyads\n",
    "    for x in participants[::2]:\n",
    "        # define input sequence\n",
    "        in_seq1 = data[x]\n",
    "        in_seq2 = data[x+1]\n",
    "        # convert to [rows, columns] structure\n",
    "        in_seq1 = in_seq1.reshape((len(in_seq1), 1))\n",
    "        in_seq2 = in_seq2.reshape((len(in_seq2), 1))\n",
    "        # horizontally stack columns\n",
    "        dataset = hstack((in_seq1, in_seq2))\n",
    "        # covert into input/output\n",
    "        X, y = split_sequences(\n",
    "            dataset,\n",
    "            n_steps_in,\n",
    "            n_steps_out)\n",
    "        # data split\n",
    "        num_train_samples = int(0.6 * len(X))\n",
    "        num_val_samples = int(0.2 * len(X))\n",
    "        num_test_samples = len(X) - num_train_samples - num_val_samples\n",
    "        # append data for multiple dyads\n",
    "        X_input_train = np.append(\n",
    "            X_input_train, \n",
    "            X[:num_train_samples], \n",
    "            axis=0)\n",
    "        y_output_train = np.append(\n",
    "            y_output_train, \n",
    "            y[:num_train_samples], \n",
    "            axis=0)\n",
    "        X_input_vali = np.append(\n",
    "            X_input_vali, \n",
    "            X[num_train_samples:(num_train_samples+num_val_samples)],\n",
    "            axis=0)\n",
    "        y_output_vali = np.append(\n",
    "            y_output_vali, \n",
    "            y[num_train_samples:(num_train_samples+num_val_samples)],\n",
    "            axis=0)\n",
    "        X_input_test = np.append(\n",
    "            X_input_test,\n",
    "            X[(num_train_samples+num_val_samples):], \n",
    "            axis=0)\n",
    "        y_output_test = np.append(\n",
    "            y_output_test, \n",
    "            y[(num_train_samples+num_val_samples):], \n",
    "            axis=0)\n",
    "\n",
    "    # Create dictionary\n",
    "    samples = {\n",
    "        \"X_input_train\": X_input_train,\n",
    "        \"y_output_train\": y_output_train,\n",
    "        \"X_input_vali\": X_input_vali,\n",
    "        \"y_output_vali\": y_output_vali,\n",
    "        \"X_input_test\": X_input_test,\n",
    "        \"y_output_test\": y_output_test\n",
    "    }\n",
    "\n",
    "    print(\"Length of samples for each set:\", len(\n",
    "        X_input_train), len(X_input_vali), len(X_input_test))\n",
    "\n",
    "    return samples\n"
   ]
  },
  {
   "cell_type": "code",
   "execution_count": 6,
   "metadata": {
    "executionInfo": {
     "elapsed": 10,
     "status": "ok",
     "timestamp": 1658668532364,
     "user": {
      "displayName": "Thou Mightst",
      "userId": "08013796147118011125"
     },
     "user_tz": -120
    },
    "id": "jpbTCapSdNK7"
   },
   "outputs": [],
   "source": [
    "# Define simple seq2seq model\n",
    "# Modified from Wieniawska 2020\n",
    "# (https://levelup.gitconnected.com/building-seq2seq-lstm-with-luong-attention-in-keras-for-time-series-forecasting-1ee00958decb)\n",
    "\n",
    "def lstm_decoder_encoder(samples, units=100):\n",
    "    # Input layer\n",
    "    input_train = Input(\n",
    "        shape=(\n",
    "            samples[\"X_input_train\"].shape[1],\n",
    "            samples[\"X_input_train\"].shape[2]))\n",
    "    output_train = Input(\n",
    "        shape=(\n",
    "            samples[\"y_output_train\"].shape[1],\n",
    "            samples[\"y_output_train\"].shape[2]))\n",
    "\n",
    "    # Encoder LSTM with last state_h and state_c\n",
    "    encoder_last_h1, encoder_last_h2, encoder_last_c = LSTM(\n",
    "        units,\n",
    "        activation='elu',\n",
    "        recurrent_dropout=0.1,\n",
    "        return_sequences=False,\n",
    "        return_state=True)(\n",
    "            input_train)\n",
    "\n",
    "    # Batch normalisation to avoid gradient explosion\n",
    "    # center=False as mean is always 0\n",
    "    encoder_last_h1 = BatchNormalization(\n",
    "        momentum=0.6,\n",
    "        center=False)(\n",
    "            encoder_last_h1)\n",
    "    encoder_last_c = BatchNormalization(\n",
    "        momentum=0.6,\n",
    "        center=False)(\n",
    "            encoder_last_c)\n",
    "\n",
    "    # Decoder LSTM\n",
    "    decoder = RepeatVector(output_train.shape[1])(\n",
    "        encoder_last_h1)\n",
    "    decoder = LSTM(\n",
    "        units,\n",
    "        activation='elu',\n",
    "        return_state=False,\n",
    "        return_sequences=True)(\n",
    "            decoder,\n",
    "            initial_state=[\n",
    "                encoder_last_h1,\n",
    "                encoder_last_c])\n",
    "\n",
    "    # Dense layer with repeated weights\n",
    "    out = TimeDistributed(Dense(output_train.shape[2]))(\n",
    "        decoder)\n",
    "\n",
    "    # Compile model\n",
    "    model = Model(\n",
    "        inputs=input_train,\n",
    "        outputs=out)\n",
    "    opt = Adam(\n",
    "        learning_rate=0.001,\n",
    "        clipnorm=1)\n",
    "    model.compile(\n",
    "        optimizer=opt,\n",
    "        loss='mse',\n",
    "        metrics=['mae'])\n",
    "\n",
    "    return model\n"
   ]
  },
  {
   "cell_type": "code",
   "execution_count": 7,
   "metadata": {
    "executionInfo": {
     "elapsed": 14,
     "status": "ok",
     "timestamp": 1658668532370,
     "user": {
      "displayName": "Thou Mightst",
      "userId": "08013796147118011125"
     },
     "user_tz": -120
    },
    "id": "LIgKaIn-dNK8"
   },
   "outputs": [],
   "source": [
    "# Fit model\n",
    "def fit_model(model, samples, epc=500, patience=50):\n",
    "    epc = 300\n",
    "    es = EarlyStopping(\n",
    "        monitor='val_loss', \n",
    "        mode='min',\n",
    "        patience=50, \n",
    "        restore_best_weights=True)\n",
    "    history = model.fit(\n",
    "        samples[\"X_input_train\"], \n",
    "        samples[\"y_output_train\"],  \n",
    "        validation_data=(\n",
    "            samples[\"X_input_vali\"], \n",
    "            samples[\"y_output_vali\"]),\n",
    "        epochs=epc, \n",
    "        verbose=0,\n",
    "        callbacks=[es],\n",
    "        batch_size=64, \n",
    "        shuffle=True)\n",
    "\n",
    "    return model, history"
   ]
  },
  {
   "cell_type": "code",
   "execution_count": 8,
   "metadata": {
    "colab": {
     "base_uri": "https://localhost:8080/"
    },
    "executionInfo": {
     "elapsed": 13064056,
     "status": "ok",
     "timestamp": 1658687530994,
     "user": {
      "displayName": "Thou Mightst",
      "userId": "08013796147118011125"
     },
     "user_tz": -120
    },
    "id": "8CpFzMHZs_vx",
    "outputId": "4b1e12b7-e225-4691-d172-c9bc449f77b9"
   },
   "outputs": [
    {
     "name": "stdout",
     "output_type": "stream",
     "text": [
      "Run: 01, Condition: sit\n",
      "Loaded data with shape (8, 14800) and type float32\n",
      "Length of samples for each set: 696 232 232\n",
      "4/4 [==============================] - 0s 117ms/step - loss: 0.0286 - mae: 0.1158\n",
      "Run: 01, Condition: gaze\n",
      "Loaded data with shape (8, 14800) and type float32\n",
      "Length of samples for each set: 696 232 232\n",
      "4/4 [==============================] - 1s 123ms/step - loss: 0.0248 - mae: 0.1077\n",
      "Run: 01, Condition: gaze_swap\n",
      "Loaded data with shape (8, 14800) and type float32\n",
      "Length of samples for each set: 696 232 232\n",
      "4/4 [==============================] - 0s 117ms/step - loss: 0.0259 - mae: 0.1083\n",
      "Run: 02, Condition: sit\n",
      "Loaded data with shape (8, 14800) and type float32\n",
      "Length of samples for each set: 696 232 232\n",
      "4/4 [==============================] - 1s 121ms/step - loss: 0.0269 - mae: 0.1116\n",
      "Run: 02, Condition: gaze\n",
      "Loaded data with shape (8, 14800) and type float32\n",
      "Length of samples for each set: 696 232 232\n",
      "4/4 [==============================] - 0s 117ms/step - loss: 0.0264 - mae: 0.1147\n",
      "Run: 02, Condition: gaze_swap\n",
      "Loaded data with shape (8, 14800) and type float32\n",
      "Length of samples for each set: 696 232 232\n",
      "4/4 [==============================] - 1s 123ms/step - loss: 0.0248 - mae: 0.1059\n",
      "Run: 03, Condition: sit\n",
      "Loaded data with shape (8, 14800) and type float32\n",
      "Length of samples for each set: 696 232 232\n",
      "4/4 [==============================] - 1s 127ms/step - loss: 0.0243 - mae: 0.1047\n",
      "Run: 03, Condition: gaze\n",
      "Loaded data with shape (8, 14800) and type float32\n",
      "Length of samples for each set: 696 232 232\n",
      "4/4 [==============================] - 1s 125ms/step - loss: 0.0265 - mae: 0.1088\n",
      "Run: 03, Condition: gaze_swap\n",
      "Loaded data with shape (8, 14800) and type float32\n",
      "Length of samples for each set: 696 232 232\n",
      "4/4 [==============================] - 1s 126ms/step - loss: 0.0268 - mae: 0.1121\n",
      "Run: 04, Condition: sit\n",
      "Loaded data with shape (8, 14800) and type float32\n",
      "Length of samples for each set: 696 232 232\n",
      "4/4 [==============================] - 1s 129ms/step - loss: 0.0284 - mae: 0.1168\n",
      "Run: 04, Condition: gaze\n",
      "Loaded data with shape (8, 14800) and type float32\n",
      "Length of samples for each set: 696 232 232\n",
      "4/4 [==============================] - 1s 119ms/step - loss: 0.0272 - mae: 0.1121\n",
      "Run: 04, Condition: gaze_swap\n",
      "Loaded data with shape (8, 14800) and type float32\n",
      "Length of samples for each set: 696 232 232\n",
      "4/4 [==============================] - 1s 122ms/step - loss: 0.0267 - mae: 0.1115\n",
      "Run: 05, Condition: sit\n",
      "Loaded data with shape (8, 14800) and type float32\n",
      "Length of samples for each set: 696 232 232\n",
      "4/4 [==============================] - 0s 113ms/step - loss: 0.0271 - mae: 0.1132\n",
      "Run: 05, Condition: gaze\n",
      "Loaded data with shape (8, 14800) and type float32\n",
      "Length of samples for each set: 696 232 232\n",
      "4/4 [==============================] - 0s 121ms/step - loss: 0.0261 - mae: 0.1070\n",
      "Run: 05, Condition: gaze_swap\n",
      "Loaded data with shape (8, 14800) and type float32\n",
      "Length of samples for each set: 696 232 232\n",
      "4/4 [==============================] - 0s 117ms/step - loss: 0.0282 - mae: 0.1120\n"
     ]
    }
   ],
   "source": [
    "# Execute over all conditions for n trials\n",
    "samples_all = {}\n",
    "model_all = {}\n",
    "history_all = {}\n",
    "results_all = {}\n",
    "predictions_all = {}\n",
    "data_all = {}\n",
    "for run in runs: data_all[run] = {}  # prepare nested dictionary\n",
    "seeds = [12,85,64,21,28]\n",
    "\n",
    "# iterate over runs\n",
    "for j,run in enumerate(runs):\n",
    "    # control random number generator for each run\n",
    "    seed_value(seeds[j]) \n",
    "    # iterate over conditions\n",
    "    for i,con in enumerate(conditions):\n",
    "        print(f\"Run: {run}, Condition: {con}\")\n",
    "        samples = sample_preparation(con)\n",
    "        samples_all[con] = samples\n",
    "        model = lstm_decoder_encoder(samples)\n",
    "        model, history = fit_model(model, samples)\n",
    "        model_path = f\"model/model_{run}_{con}.h5\"\n",
    "        # extra path because models aren't pickable in tensorflow < 2.7 and can't be imported via pickle\n",
    "        model_all[con] = model_path\n",
    "        model.save(model_path)  # -> using model.save() instead\n",
    "        history_all[con] = history.history\n",
    "        results = model.evaluate(\n",
    "            samples[\"X_input_test\"], \n",
    "            samples[\"y_output_test\"], \n",
    "            batch_size=64)\n",
    "        results_all[con] = results\n",
    "        predictions = model.predict(\n",
    "            samples[\"X_input_test\"], \n",
    "            batch_size=64)\n",
    "        predictions_all[con] = predictions\n",
    "    # deepcopy to prevent reusing the same dictionary\n",
    "    samples_all_copy = deepcopy(samples_all) # (samples are the same in each run)\n",
    "    model_all_copy = deepcopy(model_all)\n",
    "    history_all_copy = deepcopy(history_all)\n",
    "    results_all_copy = deepcopy(results_all)\n",
    "    predictions_all_copy = deepcopy(predictions_all)\n",
    "    # create nested dictionary for everything\n",
    "    data_all[run][\"samples_all\"] = samples_all_copy\n",
    "    data_all[run][\"model_all\"] = model_all_copy\n",
    "    data_all[run][\"history_all\"] = history_all_copy\n",
    "    data_all[run][\"results_all\"] = results_all_copy\n",
    "    data_all[run][\"predictions_all\"] = predictions_all_copy"
   ]
  },
  {
   "cell_type": "code",
   "execution_count": 9,
   "metadata": {
    "colab": {
     "base_uri": "https://localhost:8080/"
    },
    "executionInfo": {
     "elapsed": 23,
     "status": "ok",
     "timestamp": 1658687531021,
     "user": {
      "displayName": "Thou Mightst",
      "userId": "08013796147118011125"
     },
     "user_tz": -120
    },
    "id": "7GU9Yq_0s_vz",
    "outputId": "1b779c74-785f-4054-c929-37e50bc70775"
   },
   "outputs": [
    {
     "name": "stdout",
     "output_type": "stream",
     "text": [
      "01 {'sit': [0.02857409231364727, 0.11583928763866425], 'gaze': [0.024795273318886757, 0.10767500102519989], 'gaze_swap': [0.02589428424835205, 0.10832768678665161]}\n",
      "02 {'sit': [0.02689056284725666, 0.11157461255788803], 'gaze': [0.02637471817433834, 0.1146988570690155], 'gaze_swap': [0.024767128750681877, 0.10585116595029831]}\n",
      "03 {'sit': [0.024348542094230652, 0.10473411530256271], 'gaze': [0.026457851752638817, 0.1087653711438179], 'gaze_swap': [0.026816092431545258, 0.1120665892958641]}\n",
      "04 {'sit': [0.028386855497956276, 0.11679419130086899], 'gaze': [0.027216630056500435, 0.11210206896066666], 'gaze_swap': [0.026701493188738823, 0.11150705069303513]}\n",
      "05 {'sit': [0.027071071788668633, 0.113239586353302], 'gaze': [0.02613268978893757, 0.10698039084672928], 'gaze_swap': [0.028201691806316376, 0.1120164543390274]}\n"
     ]
    }
   ],
   "source": [
    "for x in runs: print(x,data_all[x][\"results_all\"])"
   ]
  },
  {
   "cell_type": "code",
   "execution_count": 15,
   "metadata": {
    "executionInfo": {
     "elapsed": 546,
     "status": "ok",
     "timestamp": 1658687988766,
     "user": {
      "displayName": "Thou Mightst",
      "userId": "08013796147118011125"
     },
     "user_tz": -120
    },
    "id": "0S8nvji_KyFy"
   },
   "outputs": [],
   "source": [
    "# save dictionary as pickle file\n",
    "with open(f'{colab_path}model/data_all.pickle', 'wb') as handle:\n",
    "    pickle.dump(data_all, handle, protocol=pickle.HIGHEST_PROTOCOL)"
   ]
  },
  {
   "cell_type": "code",
   "execution_count": 18,
   "metadata": {
    "colab": {
     "base_uri": "https://localhost:8080/",
     "height": 17
    },
    "executionInfo": {
     "elapsed": 24,
     "status": "ok",
     "timestamp": 1658688260426,
     "user": {
      "displayName": "Thou Mightst",
      "userId": "08013796147118011125"
     },
     "user_tz": -120
    },
    "id": "dM2voI-SlBhC",
    "outputId": "46ee382e-d8e6-46d9-bd23-36c32d75882f"
   },
   "outputs": [
    {
     "data": {
      "application/javascript": "\n    async function download(id, filename, size) {\n      if (!google.colab.kernel.accessAllowed) {\n        return;\n      }\n      const div = document.createElement('div');\n      const label = document.createElement('label');\n      label.textContent = `Downloading \"${filename}\": `;\n      div.appendChild(label);\n      const progress = document.createElement('progress');\n      progress.max = size;\n      div.appendChild(progress);\n      document.body.appendChild(div);\n\n      const buffers = [];\n      let downloaded = 0;\n\n      const channel = await google.colab.kernel.comms.open(id);\n      // Send a message to notify the kernel that we're ready.\n      channel.send({})\n\n      for await (const message of channel.messages) {\n        // Send a message to notify the kernel that we're ready.\n        channel.send({})\n        if (message.buffers) {\n          for (const buffer of message.buffers) {\n            buffers.push(buffer);\n            downloaded += buffer.byteLength;\n            progress.value = downloaded;\n          }\n        }\n      }\n      const blob = new Blob(buffers, {type: 'application/binary'});\n      const a = document.createElement('a');\n      a.href = window.URL.createObjectURL(blob);\n      a.download = filename;\n      div.appendChild(a);\n      a.click();\n      div.remove();\n    }\n  ",
      "text/plain": [
       "<IPython.core.display.Javascript object>"
      ]
     },
     "metadata": {},
     "output_type": "display_data"
    },
    {
     "data": {
      "application/javascript": "download(\"download_26d5c2c7-1948-4340-b9e5-3e40cd77f5ea\", \"data_all.pickle\", 100327821)",
      "text/plain": [
       "<IPython.core.display.Javascript object>"
      ]
     },
     "metadata": {},
     "output_type": "display_data"
    },
    {
     "data": {
      "application/javascript": "\n    async function download(id, filename, size) {\n      if (!google.colab.kernel.accessAllowed) {\n        return;\n      }\n      const div = document.createElement('div');\n      const label = document.createElement('label');\n      label.textContent = `Downloading \"${filename}\": `;\n      div.appendChild(label);\n      const progress = document.createElement('progress');\n      progress.max = size;\n      div.appendChild(progress);\n      document.body.appendChild(div);\n\n      const buffers = [];\n      let downloaded = 0;\n\n      const channel = await google.colab.kernel.comms.open(id);\n      // Send a message to notify the kernel that we're ready.\n      channel.send({})\n\n      for await (const message of channel.messages) {\n        // Send a message to notify the kernel that we're ready.\n        channel.send({})\n        if (message.buffers) {\n          for (const buffer of message.buffers) {\n            buffers.push(buffer);\n            downloaded += buffer.byteLength;\n            progress.value = downloaded;\n          }\n        }\n      }\n      const blob = new Blob(buffers, {type: 'application/binary'});\n      const a = document.createElement('a');\n      a.href = window.URL.createObjectURL(blob);\n      a.download = filename;\n      div.appendChild(a);\n      a.click();\n      div.remove();\n    }\n  ",
      "text/plain": [
       "<IPython.core.display.Javascript object>"
      ]
     },
     "metadata": {},
     "output_type": "display_data"
    },
    {
     "data": {
      "application/javascript": "download(\"download_187c6160-5c88-4866-8e31-432b73bce90d\", \"model_01_sit.h5\", 1524256)",
      "text/plain": [
       "<IPython.core.display.Javascript object>"
      ]
     },
     "metadata": {},
     "output_type": "display_data"
    },
    {
     "data": {
      "application/javascript": "\n    async function download(id, filename, size) {\n      if (!google.colab.kernel.accessAllowed) {\n        return;\n      }\n      const div = document.createElement('div');\n      const label = document.createElement('label');\n      label.textContent = `Downloading \"${filename}\": `;\n      div.appendChild(label);\n      const progress = document.createElement('progress');\n      progress.max = size;\n      div.appendChild(progress);\n      document.body.appendChild(div);\n\n      const buffers = [];\n      let downloaded = 0;\n\n      const channel = await google.colab.kernel.comms.open(id);\n      // Send a message to notify the kernel that we're ready.\n      channel.send({})\n\n      for await (const message of channel.messages) {\n        // Send a message to notify the kernel that we're ready.\n        channel.send({})\n        if (message.buffers) {\n          for (const buffer of message.buffers) {\n            buffers.push(buffer);\n            downloaded += buffer.byteLength;\n            progress.value = downloaded;\n          }\n        }\n      }\n      const blob = new Blob(buffers, {type: 'application/binary'});\n      const a = document.createElement('a');\n      a.href = window.URL.createObjectURL(blob);\n      a.download = filename;\n      div.appendChild(a);\n      a.click();\n      div.remove();\n    }\n  ",
      "text/plain": [
       "<IPython.core.display.Javascript object>"
      ]
     },
     "metadata": {},
     "output_type": "display_data"
    },
    {
     "data": {
      "application/javascript": "download(\"download_b785b265-4991-478c-b02a-17c3bb7ffd2b\", \"model_01_gaze.h5\", 1524256)",
      "text/plain": [
       "<IPython.core.display.Javascript object>"
      ]
     },
     "metadata": {},
     "output_type": "display_data"
    },
    {
     "data": {
      "application/javascript": "\n    async function download(id, filename, size) {\n      if (!google.colab.kernel.accessAllowed) {\n        return;\n      }\n      const div = document.createElement('div');\n      const label = document.createElement('label');\n      label.textContent = `Downloading \"${filename}\": `;\n      div.appendChild(label);\n      const progress = document.createElement('progress');\n      progress.max = size;\n      div.appendChild(progress);\n      document.body.appendChild(div);\n\n      const buffers = [];\n      let downloaded = 0;\n\n      const channel = await google.colab.kernel.comms.open(id);\n      // Send a message to notify the kernel that we're ready.\n      channel.send({})\n\n      for await (const message of channel.messages) {\n        // Send a message to notify the kernel that we're ready.\n        channel.send({})\n        if (message.buffers) {\n          for (const buffer of message.buffers) {\n            buffers.push(buffer);\n            downloaded += buffer.byteLength;\n            progress.value = downloaded;\n          }\n        }\n      }\n      const blob = new Blob(buffers, {type: 'application/binary'});\n      const a = document.createElement('a');\n      a.href = window.URL.createObjectURL(blob);\n      a.download = filename;\n      div.appendChild(a);\n      a.click();\n      div.remove();\n    }\n  ",
      "text/plain": [
       "<IPython.core.display.Javascript object>"
      ]
     },
     "metadata": {},
     "output_type": "display_data"
    },
    {
     "data": {
      "application/javascript": "download(\"download_ae6f3583-a962-43b6-9d0f-7095efb4273a\", \"model_01_gaze_swap.h5\", 1524256)",
      "text/plain": [
       "<IPython.core.display.Javascript object>"
      ]
     },
     "metadata": {},
     "output_type": "display_data"
    },
    {
     "data": {
      "application/javascript": "\n    async function download(id, filename, size) {\n      if (!google.colab.kernel.accessAllowed) {\n        return;\n      }\n      const div = document.createElement('div');\n      const label = document.createElement('label');\n      label.textContent = `Downloading \"${filename}\": `;\n      div.appendChild(label);\n      const progress = document.createElement('progress');\n      progress.max = size;\n      div.appendChild(progress);\n      document.body.appendChild(div);\n\n      const buffers = [];\n      let downloaded = 0;\n\n      const channel = await google.colab.kernel.comms.open(id);\n      // Send a message to notify the kernel that we're ready.\n      channel.send({})\n\n      for await (const message of channel.messages) {\n        // Send a message to notify the kernel that we're ready.\n        channel.send({})\n        if (message.buffers) {\n          for (const buffer of message.buffers) {\n            buffers.push(buffer);\n            downloaded += buffer.byteLength;\n            progress.value = downloaded;\n          }\n        }\n      }\n      const blob = new Blob(buffers, {type: 'application/binary'});\n      const a = document.createElement('a');\n      a.href = window.URL.createObjectURL(blob);\n      a.download = filename;\n      div.appendChild(a);\n      a.click();\n      div.remove();\n    }\n  ",
      "text/plain": [
       "<IPython.core.display.Javascript object>"
      ]
     },
     "metadata": {},
     "output_type": "display_data"
    },
    {
     "data": {
      "application/javascript": "download(\"download_bc7c1f7f-83d2-41f7-ab45-d66c154b869a\", \"model_02_sit.h5\", 1524256)",
      "text/plain": [
       "<IPython.core.display.Javascript object>"
      ]
     },
     "metadata": {},
     "output_type": "display_data"
    },
    {
     "data": {
      "application/javascript": "\n    async function download(id, filename, size) {\n      if (!google.colab.kernel.accessAllowed) {\n        return;\n      }\n      const div = document.createElement('div');\n      const label = document.createElement('label');\n      label.textContent = `Downloading \"${filename}\": `;\n      div.appendChild(label);\n      const progress = document.createElement('progress');\n      progress.max = size;\n      div.appendChild(progress);\n      document.body.appendChild(div);\n\n      const buffers = [];\n      let downloaded = 0;\n\n      const channel = await google.colab.kernel.comms.open(id);\n      // Send a message to notify the kernel that we're ready.\n      channel.send({})\n\n      for await (const message of channel.messages) {\n        // Send a message to notify the kernel that we're ready.\n        channel.send({})\n        if (message.buffers) {\n          for (const buffer of message.buffers) {\n            buffers.push(buffer);\n            downloaded += buffer.byteLength;\n            progress.value = downloaded;\n          }\n        }\n      }\n      const blob = new Blob(buffers, {type: 'application/binary'});\n      const a = document.createElement('a');\n      a.href = window.URL.createObjectURL(blob);\n      a.download = filename;\n      div.appendChild(a);\n      a.click();\n      div.remove();\n    }\n  ",
      "text/plain": [
       "<IPython.core.display.Javascript object>"
      ]
     },
     "metadata": {},
     "output_type": "display_data"
    },
    {
     "data": {
      "application/javascript": "download(\"download_bff21bf1-78f0-4333-a3e9-e078ee0bc7f1\", \"model_02_gaze.h5\", 1524256)",
      "text/plain": [
       "<IPython.core.display.Javascript object>"
      ]
     },
     "metadata": {},
     "output_type": "display_data"
    },
    {
     "data": {
      "application/javascript": "\n    async function download(id, filename, size) {\n      if (!google.colab.kernel.accessAllowed) {\n        return;\n      }\n      const div = document.createElement('div');\n      const label = document.createElement('label');\n      label.textContent = `Downloading \"${filename}\": `;\n      div.appendChild(label);\n      const progress = document.createElement('progress');\n      progress.max = size;\n      div.appendChild(progress);\n      document.body.appendChild(div);\n\n      const buffers = [];\n      let downloaded = 0;\n\n      const channel = await google.colab.kernel.comms.open(id);\n      // Send a message to notify the kernel that we're ready.\n      channel.send({})\n\n      for await (const message of channel.messages) {\n        // Send a message to notify the kernel that we're ready.\n        channel.send({})\n        if (message.buffers) {\n          for (const buffer of message.buffers) {\n            buffers.push(buffer);\n            downloaded += buffer.byteLength;\n            progress.value = downloaded;\n          }\n        }\n      }\n      const blob = new Blob(buffers, {type: 'application/binary'});\n      const a = document.createElement('a');\n      a.href = window.URL.createObjectURL(blob);\n      a.download = filename;\n      div.appendChild(a);\n      a.click();\n      div.remove();\n    }\n  ",
      "text/plain": [
       "<IPython.core.display.Javascript object>"
      ]
     },
     "metadata": {},
     "output_type": "display_data"
    },
    {
     "data": {
      "application/javascript": "download(\"download_1db57b3c-aea3-4e48-bc7a-af4d100057ae\", \"model_02_gaze_swap.h5\", 1524264)",
      "text/plain": [
       "<IPython.core.display.Javascript object>"
      ]
     },
     "metadata": {},
     "output_type": "display_data"
    },
    {
     "data": {
      "application/javascript": "\n    async function download(id, filename, size) {\n      if (!google.colab.kernel.accessAllowed) {\n        return;\n      }\n      const div = document.createElement('div');\n      const label = document.createElement('label');\n      label.textContent = `Downloading \"${filename}\": `;\n      div.appendChild(label);\n      const progress = document.createElement('progress');\n      progress.max = size;\n      div.appendChild(progress);\n      document.body.appendChild(div);\n\n      const buffers = [];\n      let downloaded = 0;\n\n      const channel = await google.colab.kernel.comms.open(id);\n      // Send a message to notify the kernel that we're ready.\n      channel.send({})\n\n      for await (const message of channel.messages) {\n        // Send a message to notify the kernel that we're ready.\n        channel.send({})\n        if (message.buffers) {\n          for (const buffer of message.buffers) {\n            buffers.push(buffer);\n            downloaded += buffer.byteLength;\n            progress.value = downloaded;\n          }\n        }\n      }\n      const blob = new Blob(buffers, {type: 'application/binary'});\n      const a = document.createElement('a');\n      a.href = window.URL.createObjectURL(blob);\n      a.download = filename;\n      div.appendChild(a);\n      a.click();\n      div.remove();\n    }\n  ",
      "text/plain": [
       "<IPython.core.display.Javascript object>"
      ]
     },
     "metadata": {},
     "output_type": "display_data"
    },
    {
     "data": {
      "application/javascript": "download(\"download_970d1b34-83fc-4cad-bee1-aa76e046f1ca\", \"model_03_sit.h5\", 1524264)",
      "text/plain": [
       "<IPython.core.display.Javascript object>"
      ]
     },
     "metadata": {},
     "output_type": "display_data"
    },
    {
     "data": {
      "application/javascript": "\n    async function download(id, filename, size) {\n      if (!google.colab.kernel.accessAllowed) {\n        return;\n      }\n      const div = document.createElement('div');\n      const label = document.createElement('label');\n      label.textContent = `Downloading \"${filename}\": `;\n      div.appendChild(label);\n      const progress = document.createElement('progress');\n      progress.max = size;\n      div.appendChild(progress);\n      document.body.appendChild(div);\n\n      const buffers = [];\n      let downloaded = 0;\n\n      const channel = await google.colab.kernel.comms.open(id);\n      // Send a message to notify the kernel that we're ready.\n      channel.send({})\n\n      for await (const message of channel.messages) {\n        // Send a message to notify the kernel that we're ready.\n        channel.send({})\n        if (message.buffers) {\n          for (const buffer of message.buffers) {\n            buffers.push(buffer);\n            downloaded += buffer.byteLength;\n            progress.value = downloaded;\n          }\n        }\n      }\n      const blob = new Blob(buffers, {type: 'application/binary'});\n      const a = document.createElement('a');\n      a.href = window.URL.createObjectURL(blob);\n      a.download = filename;\n      div.appendChild(a);\n      a.click();\n      div.remove();\n    }\n  ",
      "text/plain": [
       "<IPython.core.display.Javascript object>"
      ]
     },
     "metadata": {},
     "output_type": "display_data"
    },
    {
     "data": {
      "application/javascript": "download(\"download_50c322be-f1ea-4230-a7de-a7e6bb62e85a\", \"model_03_gaze.h5\", 1524264)",
      "text/plain": [
       "<IPython.core.display.Javascript object>"
      ]
     },
     "metadata": {},
     "output_type": "display_data"
    },
    {
     "data": {
      "application/javascript": "\n    async function download(id, filename, size) {\n      if (!google.colab.kernel.accessAllowed) {\n        return;\n      }\n      const div = document.createElement('div');\n      const label = document.createElement('label');\n      label.textContent = `Downloading \"${filename}\": `;\n      div.appendChild(label);\n      const progress = document.createElement('progress');\n      progress.max = size;\n      div.appendChild(progress);\n      document.body.appendChild(div);\n\n      const buffers = [];\n      let downloaded = 0;\n\n      const channel = await google.colab.kernel.comms.open(id);\n      // Send a message to notify the kernel that we're ready.\n      channel.send({})\n\n      for await (const message of channel.messages) {\n        // Send a message to notify the kernel that we're ready.\n        channel.send({})\n        if (message.buffers) {\n          for (const buffer of message.buffers) {\n            buffers.push(buffer);\n            downloaded += buffer.byteLength;\n            progress.value = downloaded;\n          }\n        }\n      }\n      const blob = new Blob(buffers, {type: 'application/binary'});\n      const a = document.createElement('a');\n      a.href = window.URL.createObjectURL(blob);\n      a.download = filename;\n      div.appendChild(a);\n      a.click();\n      div.remove();\n    }\n  ",
      "text/plain": [
       "<IPython.core.display.Javascript object>"
      ]
     },
     "metadata": {},
     "output_type": "display_data"
    },
    {
     "data": {
      "application/javascript": "download(\"download_3945b883-6c69-4fc4-a5b0-6682a5f34a0e\", \"model_03_gaze_swap.h5\", 1524264)",
      "text/plain": [
       "<IPython.core.display.Javascript object>"
      ]
     },
     "metadata": {},
     "output_type": "display_data"
    },
    {
     "data": {
      "application/javascript": "\n    async function download(id, filename, size) {\n      if (!google.colab.kernel.accessAllowed) {\n        return;\n      }\n      const div = document.createElement('div');\n      const label = document.createElement('label');\n      label.textContent = `Downloading \"${filename}\": `;\n      div.appendChild(label);\n      const progress = document.createElement('progress');\n      progress.max = size;\n      div.appendChild(progress);\n      document.body.appendChild(div);\n\n      const buffers = [];\n      let downloaded = 0;\n\n      const channel = await google.colab.kernel.comms.open(id);\n      // Send a message to notify the kernel that we're ready.\n      channel.send({})\n\n      for await (const message of channel.messages) {\n        // Send a message to notify the kernel that we're ready.\n        channel.send({})\n        if (message.buffers) {\n          for (const buffer of message.buffers) {\n            buffers.push(buffer);\n            downloaded += buffer.byteLength;\n            progress.value = downloaded;\n          }\n        }\n      }\n      const blob = new Blob(buffers, {type: 'application/binary'});\n      const a = document.createElement('a');\n      a.href = window.URL.createObjectURL(blob);\n      a.download = filename;\n      div.appendChild(a);\n      a.click();\n      div.remove();\n    }\n  ",
      "text/plain": [
       "<IPython.core.display.Javascript object>"
      ]
     },
     "metadata": {},
     "output_type": "display_data"
    },
    {
     "data": {
      "application/javascript": "download(\"download_91736dc7-97fb-41d0-a472-0f20457436bf\", \"model_04_sit.h5\", 1524264)",
      "text/plain": [
       "<IPython.core.display.Javascript object>"
      ]
     },
     "metadata": {},
     "output_type": "display_data"
    },
    {
     "data": {
      "application/javascript": "\n    async function download(id, filename, size) {\n      if (!google.colab.kernel.accessAllowed) {\n        return;\n      }\n      const div = document.createElement('div');\n      const label = document.createElement('label');\n      label.textContent = `Downloading \"${filename}\": `;\n      div.appendChild(label);\n      const progress = document.createElement('progress');\n      progress.max = size;\n      div.appendChild(progress);\n      document.body.appendChild(div);\n\n      const buffers = [];\n      let downloaded = 0;\n\n      const channel = await google.colab.kernel.comms.open(id);\n      // Send a message to notify the kernel that we're ready.\n      channel.send({})\n\n      for await (const message of channel.messages) {\n        // Send a message to notify the kernel that we're ready.\n        channel.send({})\n        if (message.buffers) {\n          for (const buffer of message.buffers) {\n            buffers.push(buffer);\n            downloaded += buffer.byteLength;\n            progress.value = downloaded;\n          }\n        }\n      }\n      const blob = new Blob(buffers, {type: 'application/binary'});\n      const a = document.createElement('a');\n      a.href = window.URL.createObjectURL(blob);\n      a.download = filename;\n      div.appendChild(a);\n      a.click();\n      div.remove();\n    }\n  ",
      "text/plain": [
       "<IPython.core.display.Javascript object>"
      ]
     },
     "metadata": {},
     "output_type": "display_data"
    },
    {
     "data": {
      "application/javascript": "download(\"download_6ed5d115-362f-4ee9-859f-c049cefb30cd\", \"model_04_gaze.h5\", 1524264)",
      "text/plain": [
       "<IPython.core.display.Javascript object>"
      ]
     },
     "metadata": {},
     "output_type": "display_data"
    },
    {
     "data": {
      "application/javascript": "\n    async function download(id, filename, size) {\n      if (!google.colab.kernel.accessAllowed) {\n        return;\n      }\n      const div = document.createElement('div');\n      const label = document.createElement('label');\n      label.textContent = `Downloading \"${filename}\": `;\n      div.appendChild(label);\n      const progress = document.createElement('progress');\n      progress.max = size;\n      div.appendChild(progress);\n      document.body.appendChild(div);\n\n      const buffers = [];\n      let downloaded = 0;\n\n      const channel = await google.colab.kernel.comms.open(id);\n      // Send a message to notify the kernel that we're ready.\n      channel.send({})\n\n      for await (const message of channel.messages) {\n        // Send a message to notify the kernel that we're ready.\n        channel.send({})\n        if (message.buffers) {\n          for (const buffer of message.buffers) {\n            buffers.push(buffer);\n            downloaded += buffer.byteLength;\n            progress.value = downloaded;\n          }\n        }\n      }\n      const blob = new Blob(buffers, {type: 'application/binary'});\n      const a = document.createElement('a');\n      a.href = window.URL.createObjectURL(blob);\n      a.download = filename;\n      div.appendChild(a);\n      a.click();\n      div.remove();\n    }\n  ",
      "text/plain": [
       "<IPython.core.display.Javascript object>"
      ]
     },
     "metadata": {},
     "output_type": "display_data"
    },
    {
     "data": {
      "application/javascript": "download(\"download_1fa9f92e-fdb0-40e7-b32f-706df7778b6f\", \"model_04_gaze_swap.h5\", 1524264)",
      "text/plain": [
       "<IPython.core.display.Javascript object>"
      ]
     },
     "metadata": {},
     "output_type": "display_data"
    },
    {
     "data": {
      "application/javascript": "\n    async function download(id, filename, size) {\n      if (!google.colab.kernel.accessAllowed) {\n        return;\n      }\n      const div = document.createElement('div');\n      const label = document.createElement('label');\n      label.textContent = `Downloading \"${filename}\": `;\n      div.appendChild(label);\n      const progress = document.createElement('progress');\n      progress.max = size;\n      div.appendChild(progress);\n      document.body.appendChild(div);\n\n      const buffers = [];\n      let downloaded = 0;\n\n      const channel = await google.colab.kernel.comms.open(id);\n      // Send a message to notify the kernel that we're ready.\n      channel.send({})\n\n      for await (const message of channel.messages) {\n        // Send a message to notify the kernel that we're ready.\n        channel.send({})\n        if (message.buffers) {\n          for (const buffer of message.buffers) {\n            buffers.push(buffer);\n            downloaded += buffer.byteLength;\n            progress.value = downloaded;\n          }\n        }\n      }\n      const blob = new Blob(buffers, {type: 'application/binary'});\n      const a = document.createElement('a');\n      a.href = window.URL.createObjectURL(blob);\n      a.download = filename;\n      div.appendChild(a);\n      a.click();\n      div.remove();\n    }\n  ",
      "text/plain": [
       "<IPython.core.display.Javascript object>"
      ]
     },
     "metadata": {},
     "output_type": "display_data"
    },
    {
     "data": {
      "application/javascript": "download(\"download_340625d2-4f3a-4523-a168-25db5eee0550\", \"model_05_sit.h5\", 1524264)",
      "text/plain": [
       "<IPython.core.display.Javascript object>"
      ]
     },
     "metadata": {},
     "output_type": "display_data"
    },
    {
     "data": {
      "application/javascript": "\n    async function download(id, filename, size) {\n      if (!google.colab.kernel.accessAllowed) {\n        return;\n      }\n      const div = document.createElement('div');\n      const label = document.createElement('label');\n      label.textContent = `Downloading \"${filename}\": `;\n      div.appendChild(label);\n      const progress = document.createElement('progress');\n      progress.max = size;\n      div.appendChild(progress);\n      document.body.appendChild(div);\n\n      const buffers = [];\n      let downloaded = 0;\n\n      const channel = await google.colab.kernel.comms.open(id);\n      // Send a message to notify the kernel that we're ready.\n      channel.send({})\n\n      for await (const message of channel.messages) {\n        // Send a message to notify the kernel that we're ready.\n        channel.send({})\n        if (message.buffers) {\n          for (const buffer of message.buffers) {\n            buffers.push(buffer);\n            downloaded += buffer.byteLength;\n            progress.value = downloaded;\n          }\n        }\n      }\n      const blob = new Blob(buffers, {type: 'application/binary'});\n      const a = document.createElement('a');\n      a.href = window.URL.createObjectURL(blob);\n      a.download = filename;\n      div.appendChild(a);\n      a.click();\n      div.remove();\n    }\n  ",
      "text/plain": [
       "<IPython.core.display.Javascript object>"
      ]
     },
     "metadata": {},
     "output_type": "display_data"
    },
    {
     "data": {
      "application/javascript": "download(\"download_dc718077-ba6e-4349-9929-5b68211315fe\", \"model_05_gaze.h5\", 1524264)",
      "text/plain": [
       "<IPython.core.display.Javascript object>"
      ]
     },
     "metadata": {},
     "output_type": "display_data"
    },
    {
     "data": {
      "application/javascript": "\n    async function download(id, filename, size) {\n      if (!google.colab.kernel.accessAllowed) {\n        return;\n      }\n      const div = document.createElement('div');\n      const label = document.createElement('label');\n      label.textContent = `Downloading \"${filename}\": `;\n      div.appendChild(label);\n      const progress = document.createElement('progress');\n      progress.max = size;\n      div.appendChild(progress);\n      document.body.appendChild(div);\n\n      const buffers = [];\n      let downloaded = 0;\n\n      const channel = await google.colab.kernel.comms.open(id);\n      // Send a message to notify the kernel that we're ready.\n      channel.send({})\n\n      for await (const message of channel.messages) {\n        // Send a message to notify the kernel that we're ready.\n        channel.send({})\n        if (message.buffers) {\n          for (const buffer of message.buffers) {\n            buffers.push(buffer);\n            downloaded += buffer.byteLength;\n            progress.value = downloaded;\n          }\n        }\n      }\n      const blob = new Blob(buffers, {type: 'application/binary'});\n      const a = document.createElement('a');\n      a.href = window.URL.createObjectURL(blob);\n      a.download = filename;\n      div.appendChild(a);\n      a.click();\n      div.remove();\n    }\n  ",
      "text/plain": [
       "<IPython.core.display.Javascript object>"
      ]
     },
     "metadata": {},
     "output_type": "display_data"
    },
    {
     "data": {
      "application/javascript": "download(\"download_42c5743b-c5aa-4a01-8ccf-a7fb4f7cb1aa\", \"model_05_gaze_swap.h5\", 1524264)",
      "text/plain": [
       "<IPython.core.display.Javascript object>"
      ]
     },
     "metadata": {},
     "output_type": "display_data"
    }
   ],
   "source": [
    "if colab_path:\n",
    "    from google.colab import files\n",
    "    files.download(f'{colab_path}model/data_all.pickle')\n",
    "    for x in list(data_all.keys()):\n",
    "        for y in list(data_all[x][\"model_all\"].keys()):\n",
    "            files.download((data_all[x][\"model_all\"][y]))"
   ]
  }
 ],
 "metadata": {
  "colab": {
   "background_execution": "on",
   "collapsed_sections": [],
   "name": "02_model.ipynb",
   "provenance": []
  },
  "interpreter": {
   "hash": "5099852c2ea48d7e79043292bac7dc904323fda34ba4586c42431fdffdc130dd"
  },
  "kernelspec": {
   "display_name": "Python 3 (ipykernel)",
   "language": "python",
   "name": "python3"
  },
  "language_info": {
   "codemirror_mode": {
    "name": "ipython",
    "version": 3
   },
   "file_extension": ".py",
   "mimetype": "text/x-python",
   "name": "python",
   "nbconvert_exporter": "python",
   "pygments_lexer": "ipython3",
   "version": "3.9.12"
  }
 },
 "nbformat": 4,
 "nbformat_minor": 4
}
