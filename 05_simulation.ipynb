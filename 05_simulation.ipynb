{
 "cells": [
  {
   "cell_type": "code",
   "execution_count": null,
   "id": "196db84f",
   "metadata": {
    "colab": {
     "base_uri": "https://localhost:8080/"
    },
    "executionInfo": {
     "elapsed": 27266,
     "status": "ok",
     "timestamp": 1658595769325,
     "user": {
      "displayName": "Thou Mightst",
      "userId": "08013796147118011125"
     },
     "user_tz": -120
    },
    "id": "196db84f",
    "outputId": "8029d61a-4d8d-48b4-94f1-603663e5f23b"
   },
   "outputs": [
    {
     "name": "stdout",
     "output_type": "stream",
     "text": [
      "Running on CoLab\n",
      "Mounted at /content/drive/\n",
      "Looking in indexes: https://pypi.org/simple, https://us-python.pkg.dev/colab-wheels/public/simple/\n",
      "Collecting neurokit2\n",
      "  Downloading neurokit2-0.2.0-py2.py3-none-any.whl (1.2 MB)\n",
      "\u001b[K     |████████████████████████████████| 1.2 MB 5.4 MB/s \n",
      "\u001b[?25hRequirement already satisfied: pandas in /usr/local/lib/python3.7/dist-packages (from neurokit2) (1.3.5)\n",
      "Requirement already satisfied: matplotlib in /usr/local/lib/python3.7/dist-packages (from neurokit2) (3.2.2)\n",
      "Requirement already satisfied: scikit-learn>=1.0.0 in /usr/local/lib/python3.7/dist-packages (from neurokit2) (1.0.2)\n",
      "Requirement already satisfied: numpy in /usr/local/lib/python3.7/dist-packages (from neurokit2) (1.21.6)\n",
      "Requirement already satisfied: scipy in /usr/local/lib/python3.7/dist-packages (from neurokit2) (1.7.3)\n",
      "Requirement already satisfied: joblib>=0.11 in /usr/local/lib/python3.7/dist-packages (from scikit-learn>=1.0.0->neurokit2) (1.1.0)\n",
      "Requirement already satisfied: threadpoolctl>=2.0.0 in /usr/local/lib/python3.7/dist-packages (from scikit-learn>=1.0.0->neurokit2) (3.1.0)\n",
      "Requirement already satisfied: cycler>=0.10 in /usr/local/lib/python3.7/dist-packages (from matplotlib->neurokit2) (0.11.0)\n",
      "Requirement already satisfied: pyparsing!=2.0.4,!=2.1.2,!=2.1.6,>=2.0.1 in /usr/local/lib/python3.7/dist-packages (from matplotlib->neurokit2) (3.0.9)\n",
      "Requirement already satisfied: kiwisolver>=1.0.1 in /usr/local/lib/python3.7/dist-packages (from matplotlib->neurokit2) (1.4.4)\n",
      "Requirement already satisfied: python-dateutil>=2.1 in /usr/local/lib/python3.7/dist-packages (from matplotlib->neurokit2) (2.8.2)\n",
      "Requirement already satisfied: typing-extensions in /usr/local/lib/python3.7/dist-packages (from kiwisolver>=1.0.1->matplotlib->neurokit2) (4.1.1)\n",
      "Requirement already satisfied: six>=1.5 in /usr/local/lib/python3.7/dist-packages (from python-dateutil>=2.1->matplotlib->neurokit2) (1.15.0)\n",
      "Requirement already satisfied: pytz>=2017.3 in /usr/local/lib/python3.7/dist-packages (from pandas->neurokit2) (2022.1)\n",
      "Installing collected packages: neurokit2\n",
      "Successfully installed neurokit2-0.2.0\n",
      "Looking in indexes: https://pypi.org/simple, https://us-python.pkg.dev/colab-wheels/public/simple/\n",
      "Collecting pickle5\n",
      "  Downloading pickle5-0.0.12-cp37-cp37m-manylinux_2_5_x86_64.manylinux1_x86_64.whl (256 kB)\n",
      "\u001b[K     |████████████████████████████████| 256 kB 6.1 MB/s \n",
      "\u001b[?25hInstalling collected packages: pickle5\n",
      "Successfully installed pickle5-0.0.12\n"
     ]
    }
   ],
   "source": [
    "# For Google Colab / local machine\n",
    "if 'google.colab' in str(get_ipython()):\n",
    "    print('Running on CoLab')\n",
    "    from google.colab import drive\n",
    "    drive.mount('/content/drive/')\n",
    "    colab_path = \"/content/drive/MyDrive/Masterarbeit/Code/two-hearts/\"\n",
    "    import sys \n",
    "    sys.path.append(colab_path)\n",
    "    !pip install neurokit2\n",
    "    !pip3 install pickle5\n",
    "    import pickle5 as pickle\n",
    "else:\n",
    "    print('Not running on CoLab')\n",
    "    colab_path = \"\"\n",
    "    import pickle"
   ]
  },
  {
   "cell_type": "code",
   "execution_count": null,
   "id": "8c0c75f1",
   "metadata": {
    "colab": {
     "base_uri": "https://localhost:8080/"
    },
    "executionInfo": {
     "elapsed": 5186,
     "status": "ok",
     "timestamp": 1658595774504,
     "user": {
      "displayName": "Thou Mightst",
      "userId": "08013796147118011125"
     },
     "user_tz": -120
    },
    "id": "8c0c75f1",
    "outputId": "a2379360-99f2-4d69-cdb5-ae7e59d9613f"
   },
   "outputs": [
    {
     "name": "stdout",
     "output_type": "stream",
     "text": [
      "TensorFlow version: 2.8.2\n"
     ]
    }
   ],
   "source": [
    "# Import libraries\n",
    "import warnings\n",
    "warnings.filterwarnings('ignore')\n",
    "import os\n",
    "from copy import deepcopy\n",
    "import neurokit2 as nk\n",
    "import numpy as np\n",
    "import pandas as pd\n",
    "import random\n",
    "import scipy.stats as st\n",
    "import scipy.signal as signal\n",
    "import seaborn as sns\n",
    "import matplotlib.pyplot as plt\n",
    "%matplotlib inline\n",
    "import datetime\n",
    "import pickle\n",
    "import IPython\n",
    "import IPython.display\n",
    "from numpy import array, hstack\n",
    "from copy import deepcopy\n",
    "import tensorflow\n",
    "from tensorflow.python.keras.layers import deserialize, serialize\n",
    "from tensorflow.python.keras.saving import saving_utils\n",
    "from tensorflow.keras.models import Sequential, Model, load_model\n",
    "from tensorflow.keras.layers import LSTM, Dense, RepeatVector,\\\n",
    "    TimeDistributed, Input, BatchNormalization, multiply,\\\n",
    "    concatenate, Flatten, Activation, dot\n",
    "from tensorflow.keras.optimizers import Adam\n",
    "from tensorflow.keras.utils import plot_model\n",
    "from tensorflow.keras.callbacks import EarlyStopping\n",
    "import pydot as pyd\n",
    "from tensorflow.keras.utils import plot_model, model_to_dot\n",
    "tensorflow.keras.utils.pydot = pyd\n",
    "\n",
    "print(\"TensorFlow version:\", tensorflow.version.VERSION)\n",
    "\n",
    "# Import functions\n",
    "from functions import cosine, rpeaks_cosine_interpolation\n",
    "\n",
    "# Import lists\n",
    "from lists import dyads, num_dyads, participants, num_participants"
   ]
  },
  {
   "cell_type": "code",
   "execution_count": null,
   "id": "dfe643e8",
   "metadata": {
    "id": "dfe643e8"
   },
   "outputs": [],
   "source": [
    "# Define important functions\n",
    "def seed_value(seed):\n",
    "    \"\"\"Function for controlling random number generator.\n",
    "    \"\"\"\n",
    "    os.environ['PYTHONHASHSEED'] = str(seed)\n",
    "    random.seed(seed)\n",
    "    np.random.seed(seed)\n",
    "    tensorflow.random.set_seed(seed)\n",
    "\n",
    "def make_noise(rpeaks_idx, noise_target):\n",
    "    \"\"\"Generates noise in amount of n = rpeaks_idx based on a discrete normal distribution with a sum of 0 \\\n",
    "        and a standard deviation of noise_target/100*mean(ibi) for each person.\\n\n",
    "\n",
    "        Returns a nested list with n numbers of noise and final percentage of noise based on the mean IBI value.\\\n",
    "        There are small deviations because of the rounded values.\n",
    "\n",
    "    Args:\n",
    "        rpeaks_idx (array): n & mean IBI\n",
    "        noise_target (int): percentage of noise based on the mean IBI for each person. Used as the standard deviation of the normal distribution.\n",
    "\n",
    "    Returns:\n",
    "        [noise, noise_percentage] : nested list\n",
    "    \"\"\"\n",
    "    num_rpeaks = len(rpeaks_idx)\n",
    "    noise_size = num_rpeaks-2\n",
    "    # num_rpeaks-2, \n",
    "    # because the first r-peak index does not represent an IBI\n",
    "    # and the noise should end at the last original IBI\n",
    "    \n",
    "    # Get IBI\n",
    "    ibi = [\n",
    "        rpeaks_idx[s]-rpeaks_idx[s-1]\n",
    "        for s in range(num_rpeaks)\n",
    "        if s > 0\n",
    "    ]\n",
    "    ibi_mean = np.mean(np.array(ibi))\n",
    "    noise_spread = int(round(noise_target/100*ibi_mean))\n",
    "\n",
    "    # Create noise for half the amount of r-peaks\n",
    "    noise_temp = np.round(\n",
    "    np.random.normal(\n",
    "        scale=noise_spread, \n",
    "        size=noise_size//2))\n",
    "    # Use while-loop to get more accurate values\n",
    "    while np.round(np.std(noise_temp), 1) != noise_spread:\n",
    "        noise_temp = np.round(\n",
    "            np.random.normal(\n",
    "                scale=noise_spread, \n",
    "                size=noise_size//2))\n",
    "\n",
    "    # Duplicate the amount of noise so that it sums to 0\n",
    "    noise = [*noise_temp *-1, *noise_temp]\n",
    "    # Add a 0 if number of r-peaks was odd\n",
    "    if noise_size % 2 == 1:\n",
    "        noise.append(0)\n",
    "    # Shuffle vector to make the sequence random\n",
    "    random.shuffle(noise)\n",
    "\n",
    "    # Convert to ints\n",
    "    noise = [round(x) for x in noise]\n",
    "    # Back to full size\n",
    "    noise.insert(0, 0)\n",
    "    noise.append(0)\n",
    "    \n",
    "    # Calculate average noise (%)\n",
    "    noise_percentage = np.round(np.std(noise), 1)/ibi_mean*100\n",
    "    noise_percentage = np.round(noise_percentage, 2)\n",
    "    \n",
    "    return [noise, noise_percentage]"
   ]
  },
  {
   "cell_type": "code",
   "execution_count": null,
   "id": "341687ef",
   "metadata": {
    "id": "341687ef"
   },
   "outputs": [],
   "source": [
    "# Define important vaules\n",
    " \n",
    "''' Create list for indices with partners that did not\n",
    "take part in the experiment together\n",
    "with an equal gender distribution, e.g.:\n",
    "0 1 2 3 4 5 6 7\n",
    "->\n",
    "0 3 4 7\n",
    "and duplicate it for a dyadic dataset\n",
    "0 0 3 3 4 4 7 7 \n",
    "'''\n",
    "sync_idx = sorted(\n",
    "    [*participants[::4],\n",
    "     *participants[3::4]]\n",
    "    *2\n",
    "    )\n",
    "\n",
    "# Set seed for random number generator\n",
    "seed_value(0)"
   ]
  },
  {
   "cell_type": "markdown",
   "id": "bcc6c1de",
   "metadata": {
    "id": "bcc6c1de"
   },
   "source": [
    "# Preprocess data"
   ]
  },
  {
   "cell_type": "code",
   "execution_count": null,
   "id": "85d75463",
   "metadata": {
    "id": "85d75463"
   },
   "outputs": [],
   "source": [
    "# Define important variables\n",
    "sampling_rate = 2000\n",
    "length = 5*60*sampling_rate\n",
    "\n",
    "ecg_raw = {}\n",
    "ecg = {}\n",
    "rpeaks = {}\n",
    "rpeaks_idx = {}\n",
    "noise = []\n",
    "con = \"gaze\""
   ]
  },
  {
   "cell_type": "code",
   "execution_count": null,
   "id": "18a1216d",
   "metadata": {
    "id": "18a1216d"
   },
   "outputs": [],
   "source": [
    "# Prepeare original sample date based on con (SIT or GAZE)\n",
    "\n",
    "# Load data: raw ecgs for 300 s at 2000 Hz\n",
    "ecg_raw[con] = np.load(f\"{colab_path}data/ecg_raw/ecg_raw_{con}.npy\")\n",
    "\n",
    "# Clean and normalize data\n",
    "ecg[con] = [\n",
    "    nk.ecg_clean(\n",
    "        ecg_raw[con][i], \n",
    "        sampling_rate=sampling_rate, \n",
    "        method=\"neurokit\")\n",
    "    for i in participants\n",
    "]\n",
    "# Get R-peaks as a binary time series\n",
    "rpeaks[con] = [\n",
    "    nk.ecg_peaks(\n",
    "        ecg[con][i], \n",
    "        sampling_rate=sampling_rate\n",
    "        )[0][\"ECG_R_Peaks\"]\n",
    "    for i in participants\n",
    "]\n",
    "rpeaks_idx[con] = [\n",
    "    [\n",
    "        s for s, \n",
    "        x in enumerate(rpeaks[con][i]) \n",
    "        if x == 1\n",
    "    ]\n",
    "    for i in participants\n",
    "]"
   ]
  },
  {
   "cell_type": "code",
   "execution_count": null,
   "id": "f18c7a1c",
   "metadata": {
    "colab": {
     "base_uri": "https://localhost:8080/"
    },
    "executionInfo": {
     "elapsed": 540,
     "status": "ok",
     "timestamp": 1658595777827,
     "user": {
      "displayName": "Thou Mightst",
      "userId": "08013796147118011125"
     },
     "user_tz": -120
    },
    "id": "f18c7a1c",
    "outputId": "c5356503-86ed-4a04-ffce-dd2c841a16a8"
   },
   "outputs": [
    {
     "name": "stdout",
     "output_type": "stream",
     "text": [
      "### Targeted noise percentage: 0 % ###\n",
      "Noise added:[0.0, 0.0, 0.0, 0.0, 0.0, 0.0, 0.0, 0.0] %        \n",
      "True noise (mean): 0.00 %\n",
      "\n",
      "### Targeted noise percentage: 2 % ###\n",
      "Noise added:[2.0, 2.0, 2.0, 2.0, 1.98, 1.98, 2.0, 2.0] %        \n",
      "True noise (mean): 2.00 %\n",
      "\n",
      "### Targeted noise percentage: 4 % ###\n",
      "Noise added:[4.03, 4.03, 4.01, 4.01, 3.96, 3.96, 3.98, 3.98] %        \n",
      "True noise (mean): 3.99 %\n",
      "\n",
      "### Targeted noise percentage: 6 % ###\n",
      "Noise added:[6.03, 6.03, 6.0, 6.0, 6.02, 6.02, 5.99, 5.99] %        \n",
      "True noise (mean): 6.01 %\n",
      "\n",
      "### Targeted noise percentage: 8 % ###\n",
      "Noise added:[7.96, 7.96, 8.07, 8.07, 8.01, 8.01, 7.98, 7.98] %        \n",
      "True noise (mean): 8.01 %\n",
      "\n",
      "### Targeted noise percentage: 10 % ###\n",
      "Noise added:[9.97, 9.97, 9.95, 9.95, 10.0, 10.0, 9.96, 9.96] %        \n",
      "True noise (mean): 9.97 %\n",
      "\n"
     ]
    }
   ],
   "source": [
    "# Create SYNC with lag and different levels of noise based on sample data\n",
    "\n",
    "noise_target = list(range(11))[::2]\n",
    "noise_added = {}\n",
    "noise = {}\n",
    "    \n",
    "rpeaks_idx[\"sync\"] = [rpeaks_idx[con][i] for i in sync_idx]\n",
    "\n",
    "for x in noise_target:\n",
    "    noise[x] = [\n",
    "        # returns 2 vaules in a nested list: noise vaules @ [0] & noise percentage @ [1]\n",
    "        make_noise(rpeaks_idx[\"sync\"][i],noise_target=x)\n",
    "        for i in participants\n",
    "    ]\n",
    "\n",
    "    rpeaks_idx[\"sync_temp\"] = [\n",
    "        np.array(rpeaks_idx[\"sync\"][i])+(noise[x][i][0])\n",
    "        for i in participants\n",
    "    ]\n",
    "\n",
    "    rpeaks_idx[f\"sync_{x}\"] = [\n",
    "        rpeaks_idx[\"sync_temp\"][idx]\n",
    "        for idx in sync_idx\n",
    "    ]\n",
    "\n",
    "    del rpeaks_idx[\"sync_temp\"]\n",
    "\n",
    "    # Add lag\n",
    "    lag = 1*sampling_rate # 1 sec\n",
    "    rpeaks_idx[f\"sync_{x}\"][1::2] = [\n",
    "        rpeaks_idx[f\"sync_{x}\"][i]+np.array(lag)\n",
    "        for i in participants\n",
    "        if i % 2 == 1\n",
    "    ]\n",
    "    \n",
    "    # Show noise\n",
    "    noise_added[x] = [\n",
    "        noise[x][idx][1]\n",
    "        for idx in sync_idx\n",
    "    ]\n",
    "\n",
    "    print(f\"### Targeted noise percentage: {x} % ###\")\n",
    "    print(\n",
    "        f\"Noise added:{noise_added[x]} %\\\n",
    "        \\nTrue noise (mean): {np.mean(noise_added[x]):.2f} %\\n\")"
   ]
  },
  {
   "cell_type": "code",
   "execution_count": null,
   "id": "763f69f4",
   "metadata": {
    "id": "763f69f4"
   },
   "outputs": [],
   "source": [
    "conditions = [f\"sync_{x}\" for x in noise_target]\n",
    "length = len(rpeaks[\"gaze\"][0])\n",
    "\n",
    "data_simul_temp = {}\n",
    "for con in conditions:\n",
    "    data_simul_temp[con] = [\n",
    "        rpeaks_cosine_interpolation(\n",
    "            rpeaks_idx[con][i],\n",
    "            length+lag)  # add lag to length of time series\n",
    "        for i in participants\n",
    "    ]\n",
    "\n",
    "    # Cut length of time series back to 600.000\n",
    "    for j in [0, 1]:\n",
    "        data_simul_temp[con][j::2] = [\n",
    "            data_simul_temp[con][i][:-lag]\n",
    "            for i in participants\n",
    "            if i % 2 == j\n",
    "        ]"
   ]
  },
  {
   "cell_type": "code",
   "execution_count": null,
   "id": "4d5ce085",
   "metadata": {
    "id": "4d5ce085"
   },
   "outputs": [],
   "source": [
    "# Trimming & downsampling to 50 Hz\n",
    "sampling_rate_new = 50\n",
    "data_trim = {}\n",
    "data_down = {}\n",
    "\n",
    "for con in conditions:\n",
    "    # Trim data_mix to get rid of nans\n",
    "    data_trim[con] = [\n",
    "        # remove first and last 6 s (extra long because of lag)\n",
    "        data_simul_temp[con][i][6*sampling_rate:-6*sampling_rate]\n",
    "        for i in participants\n",
    "    ]\n",
    "    data_down[con] = [\n",
    "        data_trim[con][i][::40]\n",
    "        for i in participants\n",
    "    ]\n",
    "\n",
    "data = deepcopy(data_down)\n",
    "for con in conditions:\n",
    "    np.save(f\"{colab_path}data/data_{con}.npy\", data[con])\n"
   ]
  },
  {
   "cell_type": "code",
   "execution_count": null,
   "id": "ed007220",
   "metadata": {
    "colab": {
     "base_uri": "https://localhost:8080/",
     "height": 282
    },
    "executionInfo": {
     "elapsed": 752,
     "status": "ok",
     "timestamp": 1658595912569,
     "user": {
      "displayName": "Thou Mightst",
      "userId": "08013796147118011125"
     },
     "user_tz": -120
    },
    "id": "ed007220",
    "outputId": "8c8c31b4-8f5a-4e63-c712-27bab54fc649"
   },
   "outputs": [
    {
     "name": "stdout",
     "output_type": "stream",
     "text": [
      "[ True  True  True ...  True  True  True]\n"
     ]
    },
    {
     "data": {
      "image/png": "[encoded data removed]",
      "text/plain": [
       "<Figure size 432x288 with 1 Axes>"
      ]
     },
     "metadata": {
      "needs_background": "light"
     },
     "output_type": "display_data"
    }
   ],
   "source": [
    "# Sanity check\n",
    "lag_new = 1*sampling_rate_new\n",
    "plt.xlim(1000,2500)\n",
    "plt.plot(data[\"sync_0\"][0])\n",
    "plt.plot(data[\"sync_0\"][1][lag_new:])\n",
    "plt.plot(data[f\"sync_{noise_target[-1]}\"][1][lag_new:])\n",
    "\n",
    "print(np.equal(\n",
    "    data[\"sync_0\"][0][:-lag_new],\n",
    "    data[\"sync_0\"][1][lag_new:]))"
   ]
  },
  {
   "cell_type": "markdown",
   "id": "c71ebd39",
   "metadata": {
    "id": "c71ebd39"
   },
   "source": [
    "## Deep Learning"
   ]
  },
  {
   "cell_type": "code",
   "execution_count": null,
   "id": "e1b68d0d",
   "metadata": {
    "colab": {
     "base_uri": "https://localhost:8080/"
    },
    "executionInfo": {
     "elapsed": 18,
     "status": "ok",
     "timestamp": 1658595912572,
     "user": {
      "displayName": "Thou Mightst",
      "userId": "08013796147118011125"
     },
     "user_tz": -120
    },
    "id": "e1b68d0d",
    "outputId": "226c1fa1-9039-45b1-d7e0-76155aa2e0ae"
   },
   "outputs": [
    {
     "name": "stdout",
     "output_type": "stream",
     "text": [
      "Sampling rate: 50\n",
      "Time steps: 250 100\n",
      "Conditions: ['sync_0', 'sync_2', 'sync_4', 'sync_6', 'sync_8', 'sync_10']\n",
      "Participants: 8\n",
      "Dyads: 4\n"
     ]
    }
   ],
   "source": [
    "# Set sampling rate\n",
    "sampling_rate = 50\n",
    "print(\"Sampling rate:\", sampling_rate)\n",
    "\n",
    "# Set number of time steps\n",
    "n_steps_in, n_steps_out = 5*sampling_rate, 2*sampling_rate\n",
    "print(\"Time steps:\", n_steps_in, n_steps_out)\n",
    "\n",
    "# Set conditions\n",
    "conditions\n",
    "print(\"Conditions:\", conditions)\n",
    "\n",
    "# Show number of participants\n",
    "print(\"Participants:\", num_participants)\n",
    "\n",
    "# Show number of dyads\n",
    "print(\"Dyads:\", num_dyads)\n",
    "\n",
    "# print(\"Number of training runs:\", len(runs))"
   ]
  },
  {
   "cell_type": "code",
   "execution_count": null,
   "id": "3af3dd4d",
   "metadata": {
    "id": "3af3dd4d"
   },
   "outputs": [],
   "source": [
    "# Prepare sample data\n",
    "def sample_preparation(condition):\n",
    "\n",
    "    # Load data\n",
    "    data = np.load(f\"{colab_path}data/data_{condition}.npy\")\n",
    "    print(f\"Loaded data with shape {data.shape} and type {data.dtype}\")\n",
    "\n",
    "    # Create empty samples\n",
    "    X_input_train = np.empty(\n",
    "        (0, n_steps_in, 2))\n",
    "    X_input_vali = np.empty(\n",
    "        (0, n_steps_in, 2))\n",
    "    X_input_test = np.empty(\n",
    "        (0, n_steps_in, 2))\n",
    "    y_output_train = np.empty(\n",
    "        (0, n_steps_out, 2))\n",
    "    y_output_vali = np.empty(\n",
    "        (0, n_steps_out, 2))\n",
    "    y_output_test = np.empty(\n",
    "        (0, n_steps_out, 2))\n",
    "\n",
    "    # Split a multivariate sequence into samples (modified from Brownlee 2018, p.156)\n",
    "    def split_sequences(\n",
    "            sequences,\n",
    "            n_steps_in,\n",
    "            n_steps_out):\n",
    "        X, y = list(), list()\n",
    "        for i in range(len(sequences)):\n",
    "            if i % (sampling_rate) == 0:  # to reduce redundancy in samples\n",
    "                # find the end of this pattern\n",
    "                end_ix = i + n_steps_in\n",
    "                out_end_ix = end_ix + n_steps_out\n",
    "                # check if we are beyond the dataset\n",
    "                if out_end_ix > len(sequences):\n",
    "                    break\n",
    "                # gather input and output parts of the pattern\n",
    "                seq_x, seq_y = sequences[i:end_ix,:], sequences[end_ix:out_end_ix, :]\n",
    "                X.append(seq_x)\n",
    "                y.append(seq_y)\n",
    "        return array(X), array(y)\n",
    "\n",
    "    # index for dyads\n",
    "    for x in participants[::2]:\n",
    "        # define input sequence\n",
    "        in_seq1 = data[x]\n",
    "        in_seq2 = data[x+1]\n",
    "        # convert to [rows, columns] structure\n",
    "        in_seq1 = in_seq1.reshape((len(in_seq1), 1))\n",
    "        in_seq2 = in_seq2.reshape((len(in_seq2), 1))\n",
    "        # horizontally stack columns\n",
    "        dataset = hstack((in_seq1, in_seq2))\n",
    "        # covert into input/output\n",
    "        X, y = split_sequences(\n",
    "            dataset,\n",
    "            n_steps_in,\n",
    "            n_steps_out)\n",
    "        # data split\n",
    "        num_train_samples = int(0.6 * len(X))\n",
    "        num_val_samples = int(0.2 * len(X))\n",
    "        num_test_samples = len(X) - num_train_samples - num_val_samples\n",
    "        # append data for multiple dyads\n",
    "        X_input_train = np.append(\n",
    "            X_input_train, \n",
    "            X[:num_train_samples], \n",
    "            axis=0)\n",
    "        y_output_train = np.append(\n",
    "            y_output_train, \n",
    "            y[:num_train_samples], \n",
    "            axis=0)\n",
    "        X_input_vali = np.append(\n",
    "            X_input_vali, \n",
    "            X[num_train_samples:(num_train_samples+num_val_samples)],\n",
    "            axis=0)\n",
    "        y_output_vali = np.append(\n",
    "            y_output_vali, \n",
    "            y[num_train_samples:(num_train_samples+num_val_samples)],\n",
    "            axis=0)\n",
    "        X_input_test = np.append(\n",
    "            X_input_test,\n",
    "            X[(num_train_samples+num_val_samples):], \n",
    "            axis=0)\n",
    "        y_output_test = np.append(\n",
    "            y_output_test, \n",
    "            y[(num_train_samples+num_val_samples):], \n",
    "            axis=0)\n",
    "\n",
    "    # Create dictionary\n",
    "    samples = {\n",
    "        \"X_input_train\": X_input_train,\n",
    "        \"y_output_train\": y_output_train,\n",
    "        \"X_input_vali\": X_input_vali,\n",
    "        \"y_output_vali\": y_output_vali,\n",
    "        \"X_input_test\": X_input_test,\n",
    "        \"y_output_test\": y_output_test\n",
    "    }\n",
    "\n",
    "    print(\"Length of samples for each set:\", len(\n",
    "        X_input_train), len(X_input_vali), len(X_input_test))\n",
    "\n",
    "    return samples\n"
   ]
  },
  {
   "cell_type": "code",
   "execution_count": null,
   "id": "f03e1e15",
   "metadata": {
    "id": "f03e1e15"
   },
   "outputs": [],
   "source": [
    "# Define simple seq2seq model\n",
    "# Modified from Wieniawska 2020\n",
    "# (https://levelup.gitconnected.com/building-seq2seq-lstm-with-luong-attention-in-keras-for-time-series-forecasting-1ee00958decb)\n",
    "\n",
    "def lstm_decoder_encoder(samples, units=100):\n",
    "    # Input layer\n",
    "    input_train = Input(\n",
    "        shape=(\n",
    "            samples[\"X_input_train\"].shape[1],\n",
    "            samples[\"X_input_train\"].shape[2]))\n",
    "    output_train = Input(\n",
    "        shape=(\n",
    "            samples[\"y_output_train\"].shape[1],\n",
    "            samples[\"y_output_train\"].shape[2]))\n",
    "\n",
    "    # Encoder LSTM with last state_h and state_c\n",
    "    encoder_last_h1, encoder_last_h2, encoder_last_c = LSTM(\n",
    "        units,\n",
    "        activation='elu',\n",
    "        recurrent_dropout=0.1,\n",
    "        return_sequences=False,\n",
    "        return_state=True)(\n",
    "            input_train)\n",
    "\n",
    "    # Batch normalisation to avoid gradient explosion\n",
    "    # center=False as mean is always 0\n",
    "    encoder_last_h1 = BatchNormalization(\n",
    "        momentum=0.6,\n",
    "        center=False)(\n",
    "            encoder_last_h1)\n",
    "    encoder_last_c = BatchNormalization(\n",
    "        momentum=0.6,\n",
    "        center=False)(\n",
    "            encoder_last_c)\n",
    "\n",
    "    # Decoder LSTM\n",
    "    decoder = RepeatVector(output_train.shape[1])(\n",
    "        encoder_last_h1)\n",
    "    decoder = LSTM(\n",
    "        units,\n",
    "        activation='elu',\n",
    "        return_state=False,\n",
    "        return_sequences=True)(\n",
    "            decoder,\n",
    "            initial_state=[\n",
    "                encoder_last_h1,\n",
    "                encoder_last_c])\n",
    "\n",
    "    # Dense layer with repeated weights\n",
    "    out = TimeDistributed(Dense(output_train.shape[2]))(\n",
    "        decoder)\n",
    "\n",
    "    # Compile model\n",
    "    model = Model(\n",
    "        inputs=input_train,\n",
    "        outputs=out)\n",
    "    opt = Adam(\n",
    "        learning_rate=0.001,\n",
    "        clipnorm=1)\n",
    "    model.compile(\n",
    "        optimizer=opt,\n",
    "        loss='mse',\n",
    "        metrics=['mae'])\n",
    "\n",
    "    return model\n"
   ]
  },
  {
   "cell_type": "code",
   "execution_count": null,
   "id": "cfb38a2c",
   "metadata": {
    "id": "cfb38a2c"
   },
   "outputs": [],
   "source": [
    "# Fit model\n",
    "def fit_model(model, samples):\n",
    "    epc = 500\n",
    "    es = EarlyStopping(\n",
    "        monitor='val_loss', \n",
    "        mode='min',\n",
    "        patience=50, \n",
    "        restore_best_weights=True)\n",
    "    history = model.fit(\n",
    "        samples[\"X_input_train\"], \n",
    "        samples[\"y_output_train\"],  \n",
    "        validation_data=(\n",
    "            samples[\"X_input_vali\"], \n",
    "            samples[\"y_output_vali\"]),\n",
    "        epochs=epc, \n",
    "        verbose=0,\n",
    "        callbacks=[es],\n",
    "        batch_size=64, \n",
    "        shuffle=True)\n",
    "\n",
    "    return model, history"
   ]
  },
  {
   "cell_type": "code",
   "execution_count": 15,
   "id": "9692324f",
   "metadata": {
    "colab": {
     "base_uri": "https://localhost:8080/"
    },
    "executionInfo": {
     "elapsed": 5303130,
     "status": "ok",
     "timestamp": 1658605059220,
     "user": {
      "displayName": "Thou Mightst",
      "userId": "08013796147118011125"
     },
     "user_tz": -120
    },
    "id": "9692324f",
    "outputId": "038352ef-f50d-4a14-c3e1-400e0d6f6772"
   },
   "outputs": [
    {
     "name": "stdout",
     "output_type": "stream",
     "text": [
      "Condition: sync_0\n",
      "Loaded data with shape (8, 14400) and type float64\n",
      "Length of samples for each set: 676 224 228\n",
      "4/4 [==============================] - 1s 127ms/step - loss: 0.0109 - mae: 0.0650\n",
      "Condition: sync_2\n",
      "Loaded data with shape (8, 14400) and type float64\n",
      "Length of samples for each set: 676 224 228\n",
      "4/4 [==============================] - 1s 125ms/step - loss: 0.0129 - mae: 0.0694\n",
      "Condition: sync_4\n",
      "Loaded data with shape (8, 14400) and type float64\n",
      "Length of samples for each set: 676 224 228\n",
      "4/4 [==============================] - 1s 137ms/step - loss: 0.0213 - mae: 0.0956\n",
      "Condition: sync_6\n",
      "Loaded data with shape (8, 14400) and type float64\n",
      "Length of samples for each set: 676 224 228\n",
      "4/4 [==============================] - 1s 135ms/step - loss: 0.0266 - mae: 0.1077\n",
      "Condition: sync_8\n",
      "Loaded data with shape (8, 14400) and type float64\n",
      "Length of samples for each set: 676 224 228\n",
      "4/4 [==============================] - 1s 130ms/step - loss: 0.0367 - mae: 0.1328\n",
      "Condition: sync_10\n",
      "Loaded data with shape (8, 14400) and type float64\n",
      "Length of samples for each set: 676 224 228\n",
      "4/4 [==============================] - 1s 128ms/step - loss: 0.0377 - mae: 0.1284\n"
     ]
    }
   ],
   "source": [
    "# Execute over all conditions for n trials\n",
    "samples_all = {}\n",
    "model_all = {}\n",
    "history_all = {}\n",
    "results_all = {}\n",
    "predictions_all = {}\n",
    "data_all = {}\n",
    "\n",
    "# control random number generator\n",
    "seed_value(0) \n",
    "\n",
    "# iterate over conditions\n",
    "for i,con in enumerate(conditions):\n",
    "    print(f\"Condition: {con}\")\n",
    "    samples = sample_preparation(con)\n",
    "    samples_all[con] = samples\n",
    "    model = lstm_decoder_encoder(samples)\n",
    "    model, history = fit_model(model, samples)\n",
    "    model_path = f\"{colab_path}model/model_{con}.h5\"\n",
    "    # extra path because models aren't pickable in tensorflow < 2.7 and can't be imported via pickle\n",
    "    model_all[con] = model_path\n",
    "    model.save(model_path)  # -> using model.save() instead\n",
    "    history_all[con] = history.history\n",
    "    results = model.evaluate(\n",
    "        samples[\"X_input_test\"], \n",
    "        samples[\"y_output_test\"], \n",
    "        batch_size=64)\n",
    "    results_all[con] = results\n",
    "    predictions = model.predict(\n",
    "        samples[\"X_input_test\"], \n",
    "        batch_size=64)\n",
    "    predictions_all[con] = predictions\n",
    "# deepcopy to prevent reusing the same dictionary\n",
    "samples_all_copy = deepcopy(samples_all)\n",
    "model_all_copy = deepcopy(model_all)\n",
    "history_all_copy = deepcopy(history_all)\n",
    "results_all_copy = deepcopy(results_all)\n",
    "predictions_all_copy = deepcopy(predictions_all)\n",
    "# create nested dictionary for everything\n",
    "data_all[\"samples_all\"] = samples_all_copy\n",
    "data_all[\"model_all\"] = model_all_copy\n",
    "data_all[\"history_all\"] = history_all_copy\n",
    "data_all[\"results_all\"] = results_all_copy\n",
    "data_all[\"predictions_all\"] = predictions_all_copy"
   ]
  },
  {
   "cell_type": "code",
   "execution_count": 16,
   "id": "b957b0e1",
   "metadata": {
    "colab": {
     "base_uri": "https://localhost:8080/"
    },
    "executionInfo": {
     "elapsed": 10,
     "status": "ok",
     "timestamp": 1658605059232,
     "user": {
      "displayName": "Thou Mightst",
      "userId": "08013796147118011125"
     },
     "user_tz": -120
    },
    "id": "b957b0e1",
    "outputId": "4268127b-60e8-491f-e030-199735118d8b"
   },
   "outputs": [
    {
     "name": "stdout",
     "output_type": "stream",
     "text": [
      "sync_0 [0.010887224227190018, 0.06497863680124283]\n",
      "sync_2 [0.012865325435996056, 0.06942044198513031]\n",
      "sync_4 [0.021274980157613754, 0.09558779746294022]\n",
      "sync_6 [0.026622459292411804, 0.10771980881690979]\n",
      "sync_8 [0.0367208868265152, 0.1328379362821579]\n",
      "sync_10 [0.03766854852437973, 0.1284160166978836]\n"
     ]
    }
   ],
   "source": [
    "for x in conditions: print(x,data_all[\"results_all\"][x])"
   ]
  },
  {
   "cell_type": "code",
   "execution_count": 17,
   "id": "5c6302f1",
   "metadata": {
    "colab": {
     "base_uri": "https://localhost:8080/",
     "height": 330
    },
    "executionInfo": {
     "elapsed": 1673,
     "status": "ok",
     "timestamp": 1658605060904,
     "user": {
      "displayName": "Thou Mightst",
      "userId": "08013796147118011125"
     },
     "user_tz": -120
    },
    "id": "5c6302f1",
    "outputId": "2b453fa0-add3-4b93-fdea-95a07290dce4"
   },
   "outputs": [
    {
     "data": {
      "image/png": "[encoded data removed]",
      "text/plain": [
       "<Figure size 576x336 with 1 Axes>"
      ]
     },
     "metadata": {
      "needs_background": "light"
     },
     "output_type": "display_data"
    }
   ],
   "source": [
    "# Plot results\n",
    "fig = plt.figure(figsize=(6,3.5), dpi=96)\n",
    "\n",
    "plt.ylabel('Fehler [mse]')\n",
    "plt.xlabel('Noise')\n",
    "plt.margins(x=0.0)\n",
    "\n",
    "plt.plot(\n",
    "    noise_target, \n",
    "    [data_all[\"results_all\"][x][0] for x in conditions],\n",
    "    \"k\")\n",
    "plt.xticks(\n",
    "    noise_target,\n",
    "    [f\"{x} %\" for x in noise_target])\n",
    "sns.despine()\n",
    "\n",
    "plt.savefig(\n",
    "    f\"{colab_path}plots/simulation.png\",\n",
    "    bbox_inches='tight', \n",
    "    dpi=512)"
   ]
  }
 ],
 "metadata": {
  "colab": {
   "collapsed_sections": [],
   "name": "05_simulation.ipynb",
   "provenance": []
  },
  "gpuClass": "standard",
  "interpreter": {
   "hash": "5099852c2ea48d7e79043292bac7dc904323fda34ba4586c42431fdffdc130dd"
  },
  "kernelspec": {
   "display_name": "Python 3 (ipykernel)",
   "language": "python",
   "name": "python3"
  },
  "language_info": {
   "codemirror_mode": {
    "name": "ipython",
    "version": 3
   },
   "file_extension": ".py",
   "mimetype": "text/x-python",
   "name": "python",
   "nbconvert_exporter": "python",
   "pygments_lexer": "ipython3",
   "version": "3.9.12"
  }
 },
 "nbformat": 4,
 "nbformat_minor": 5
}
