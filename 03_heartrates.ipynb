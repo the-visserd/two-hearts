{
 "cells": [
  {
   "cell_type": "code",
   "execution_count": 1,
   "metadata": {},
   "outputs": [],
   "source": [
    "# Import libraries\n",
    "from IPython.display import display\n",
    "import numpy as np\n",
    "from numpy import mean, std, var\n",
    "from math import sqrt\n",
    "import matplotlib.pyplot as plt\n",
    "import seaborn as sns\n",
    "import pandas as pd\n",
    "import scipy.stats as st\n",
    "import neurokit2 as nk\n",
    "import warnings\n",
    "warnings.filterwarnings('ignore')\n",
    "\n",
    "# Import lists\n",
    "from lists import dyads, num_dyads, participants, num_participants"
   ]
  },
  {
   "cell_type": "code",
   "execution_count": 2,
   "metadata": {},
   "outputs": [
    {
     "name": "stdout",
     "output_type": "stream",
     "text": [
      "Sampling rate: 2000\n",
      "Conditions: ['sit', 'gaze']\n",
      "Participants: 8\n",
      "Dyads: 4\n"
     ]
    }
   ],
   "source": [
    "# Set sampling rate\n",
    "sampling_rate = 2000\n",
    "print(\"Sampling rate:\", sampling_rate)\n",
    "\n",
    "# Set conditions\n",
    "conditions = [\"sit\",\"gaze\"]\n",
    "print(\"Conditions:\", conditions)\n",
    "\n",
    "# Show number of participants\n",
    "print(\"Participants:\", num_participants)\n",
    "\n",
    "# Show number of dyads\n",
    "print(\"Dyads:\", num_dyads)"
   ]
  },
  {
   "cell_type": "code",
   "execution_count": 3,
   "metadata": {},
   "outputs": [],
   "source": [
    "# Gather data for heartrates and RMSSD\n",
    "\n",
    "rmssd = {}\n",
    "hr = {}\n",
    "\n",
    "for con in conditions:\n",
    "    ecg_raw_2000hz = np.load(f\"data/ecg_raw/ecg_raw_{con}.npy\")\n",
    "    ecg = [\n",
    "        nk.ecg_clean(\n",
    "            ecg_raw_2000hz[j],\n",
    "            sampling_rate=sampling_rate,\n",
    "            method=\"neurokit\")\n",
    "        for j in participants\n",
    "    ]\n",
    "    r_peaks = [\n",
    "        nk.ecg_peaks(\n",
    "            ecg[j],\n",
    "            sampling_rate=sampling_rate,\n",
    "            method=\"neurokit\",\n",
    "            correct_artifacts=True)\n",
    "        for j in participants\n",
    "    ]\n",
    "    rmssd[con] = [\n",
    "        nk.hrv(\n",
    "            r_peaks[j],\n",
    "            sampling_rate=2000,\n",
    "            show=False\n",
    "        )[\"HRV_RMSSD\"][0]\n",
    "        for j in participants\n",
    "    ]\n",
    "    hr[con] = [\n",
    "        sum(r_peaks[j][0][\"ECG_R_Peaks\"])/\\\n",
    "            ((len(ecg[j])/(sampling_rate*60)))\n",
    "        for j in participants\n",
    "    ]"
   ]
  },
  {
   "cell_type": "code",
   "execution_count": 4,
   "metadata": {},
   "outputs": [
    {
     "name": "stdout",
     "output_type": "stream",
     "text": [
      "Average heart rates per person in condition SIT\n",
      "Dyad 0 | Female: 72.4 Male: 60.2\n",
      "Dyad 1 | Female: 70.0 Male: 69.6\n",
      "Dyad 2 | Female: 92.6 Male: 76.2\n",
      "Dyad 3 | Female: 82.0 Male: 77.2\n",
      "Average heart rates per person in condition GAZE\n",
      "Dyad 0 | Female: 70.8 Male: 60.8\n",
      "Dyad 1 | Female: 73.4 Male: 66.8\n",
      "Dyad 2 | Female: 91.6 Male: 78.4\n",
      "Dyad 3 | Female: 74.8 Male: 72.6\n",
      "\n",
      "Average heart rates over all participants\n"
     ]
    },
    {
     "data": {
      "text/html": [
       "<div>\n",
       "<style scoped>\n",
       "    .dataframe tbody tr th:only-of-type {\n",
       "        vertical-align: middle;\n",
       "    }\n",
       "\n",
       "    .dataframe tbody tr th {\n",
       "        vertical-align: top;\n",
       "    }\n",
       "\n",
       "    .dataframe thead th {\n",
       "        text-align: right;\n",
       "    }\n",
       "</style>\n",
       "<table border=\"1\" class=\"dataframe\">\n",
       "  <thead>\n",
       "    <tr style=\"text-align: right;\">\n",
       "      <th></th>\n",
       "      <th>SIT</th>\n",
       "      <th>GAZE</th>\n",
       "      <th>All</th>\n",
       "    </tr>\n",
       "  </thead>\n",
       "  <tbody>\n",
       "    <tr>\n",
       "      <th>Female</th>\n",
       "      <td>79.0</td>\n",
       "      <td>78.0</td>\n",
       "      <td>78.0</td>\n",
       "    </tr>\n",
       "    <tr>\n",
       "      <th>Male</th>\n",
       "      <td>71.0</td>\n",
       "      <td>70.0</td>\n",
       "      <td>70.0</td>\n",
       "    </tr>\n",
       "    <tr>\n",
       "      <th>All</th>\n",
       "      <td>75.0</td>\n",
       "      <td>74.0</td>\n",
       "      <td>74.0</td>\n",
       "    </tr>\n",
       "  </tbody>\n",
       "</table>\n",
       "</div>"
      ],
      "text/plain": [
       "         SIT  GAZE   All\n",
       "Female  79.0  78.0  78.0\n",
       "Male    71.0  70.0  70.0\n",
       "All     75.0  74.0  74.0"
      ]
     },
     "metadata": {},
     "output_type": "display_data"
    },
    {
     "name": "stdout",
     "output_type": "stream",
     "text": [
      "Average RMSSD over all participants\n"
     ]
    },
    {
     "data": {
      "text/html": [
       "<div>\n",
       "<style scoped>\n",
       "    .dataframe tbody tr th:only-of-type {\n",
       "        vertical-align: middle;\n",
       "    }\n",
       "\n",
       "    .dataframe tbody tr th {\n",
       "        vertical-align: top;\n",
       "    }\n",
       "\n",
       "    .dataframe thead th {\n",
       "        text-align: right;\n",
       "    }\n",
       "</style>\n",
       "<table border=\"1\" class=\"dataframe\">\n",
       "  <thead>\n",
       "    <tr style=\"text-align: right;\">\n",
       "      <th></th>\n",
       "      <th>SIT</th>\n",
       "      <th>GAZE</th>\n",
       "      <th>All</th>\n",
       "    </tr>\n",
       "  </thead>\n",
       "  <tbody>\n",
       "    <tr>\n",
       "      <th>Female</th>\n",
       "      <td>26.0</td>\n",
       "      <td>33.0</td>\n",
       "      <td>29.0</td>\n",
       "    </tr>\n",
       "    <tr>\n",
       "      <th>Male</th>\n",
       "      <td>45.0</td>\n",
       "      <td>42.0</td>\n",
       "      <td>43.0</td>\n",
       "    </tr>\n",
       "    <tr>\n",
       "      <th>All</th>\n",
       "      <td>35.0</td>\n",
       "      <td>37.0</td>\n",
       "      <td>36.0</td>\n",
       "    </tr>\n",
       "  </tbody>\n",
       "</table>\n",
       "</div>"
      ],
      "text/plain": [
       "         SIT  GAZE   All\n",
       "Female  26.0  33.0  29.0\n",
       "Male    45.0  42.0  43.0\n",
       "All     35.0  37.0  36.0"
      ]
     },
     "metadata": {},
     "output_type": "display_data"
    }
   ],
   "source": [
    "# Calculate average heart rates and RMSSD\n",
    "for con in conditions:\n",
    "    print(f\"Average heart rates per person in condition {con.upper()}\")\n",
    "    # Save data as 3D array\n",
    "    for k,x in enumerate(participants[::2]):  # index for dyads\n",
    "        print(f\"Dyad {k} | Female: {hr[con][x]} Male: {hr[con][x+1]}\")\n",
    "\n",
    "# Build dataframe\n",
    "print(\"\\nAverage heart rates over all participants\")\n",
    "hr_mean = pd.DataFrame(\n",
    "    {\"Female\": [\n",
    "        np.mean(hr[\"sit\"][0::2]),\n",
    "        np.mean(hr[\"gaze\"][0::2]),\n",
    "        np.mean([*hr[\"sit\"][0::2],\n",
    "                 *hr[\"gaze\"][0::2]])],\n",
    "     \"Male\": [\n",
    "        np.mean(hr[\"sit\"][1::2]),\n",
    "        np.mean(hr[\"gaze\"][1::2]),\n",
    "        np.mean([*hr[\"sit\"][1::2],\n",
    "                 *hr[\"gaze\"][1::2]])],\n",
    "     \"All\":  [\n",
    "        np.mean(hr[\"sit\"]),\n",
    "        np.mean(hr[\"gaze\"]),\n",
    "        np.mean([*hr[\"sit\"],\n",
    "                 *hr[\"gaze\"]])]},\n",
    "    index=[\"SIT\", \"GAZE\", \"All\"])\n",
    "\n",
    "hr_mean = hr_mean.round()\n",
    "display(hr_mean.T)\n",
    "\n",
    "print(\"Average RMSSD over all participants\")\n",
    "rmssd_mean = pd.DataFrame(\n",
    "    {\"Female\": [\n",
    "        np.mean(rmssd[\"sit\"][0::2]),\n",
    "        np.mean(rmssd[\"gaze\"][0::2]),\n",
    "        np.mean([*rmssd[\"sit\"][0::2],\n",
    "                 *rmssd[\"gaze\"][0::2]])],\n",
    "     \"Male\": [\n",
    "        np.mean(rmssd[\"sit\"][1::2]),\n",
    "        np.mean(rmssd[\"gaze\"][1::2]),\n",
    "        np.mean([*rmssd[\"sit\"][1::2],\n",
    "                 *rmssd[\"gaze\"][1::2]])],\n",
    "     \"All\":  [\n",
    "        np.mean(rmssd[\"sit\"]),\n",
    "        np.mean(rmssd[\"gaze\"]),\n",
    "        np.mean([*rmssd[\"sit\"],\n",
    "                 *rmssd[\"gaze\"]])]},\n",
    "    index=[\"SIT\", \"GAZE\", \"All\"])\n",
    "\n",
    "rmssd_mean = rmssd_mean.round()\n",
    "display(rmssd_mean.T)"
   ]
  },
  {
   "cell_type": "markdown",
   "metadata": {},
   "source": [
    "### Bootstrapping & confidence interval"
   ]
  },
  {
   "cell_type": "code",
   "execution_count": 5,
   "metadata": {},
   "outputs": [],
   "source": [
    "# Define functions\n",
    "def cohend(d1, d2):\n",
    "\t\"\"\"Function to calculate Cohen's d for independent samples d1 and d2.\n",
    " \n",
    " \tbased on https://machinelearningmastery.com/effect-size-measures-in-python/\n",
    "\n",
    "\tReturns:\n",
    "        float: effect size\n",
    "\t\"\"\"\n",
    "\t# calculate the size of samples\n",
    "\tn1, n2 = len(d1), len(d2)\n",
    "\t# calculate the variance of the samples\n",
    "\ts1, s2 = var(d1, ddof=1), var(d2, ddof=1)\n",
    "\t# calculate the pooled standard deviation\n",
    "\ts = sqrt(((n1 - 1) * s1 + (n2 - 1) * s2) / (n1 + n2 - 2))\n",
    "\t# calculate the means of the samples\n",
    "\tu1, u2 = mean(d1), mean(d2)\n",
    "\t# calculate the effect size\n",
    "\treturn (u1 - u2) / s\n",
    "\n",
    "def draw_bs_replicates(data,func,size):\n",
    "    \"\"\"Creates a bootstrap sample, computes replicates and returns replicates array.\n",
    "    \n",
    "    based on: https://github.com/Bhasfe/statistics/blob/master/bootstrapping/Confidence%20Interval%20with%20bootstrapping.ipynb\n",
    "    \"\"\"\n",
    "    # Create an empty array to store replicates\n",
    "    bs_replicates = np.empty(size)\n",
    "    \n",
    "    # Create bootstrap replicates as much as size\n",
    "    for i in range(size):\n",
    "        # Create a bootstrap sample\n",
    "        bs_sample = np.random.choice(data,size=len(data))\n",
    "        # Get bootstrap replicate and append to bs_replicates\n",
    "        bs_replicates[i] = func(bs_sample)\n",
    "    \n",
    "    return bs_replicates\n",
    "\n",
    "def confidence_interval(bs_replicates, confidence=0.95):\n",
    "    \"\"\" Create two sided conficence interval values.\"\"\"\n",
    "    m = mean(bs_replicates)\n",
    "    # Get the corresponding values of 2.5th and 97.5th percentiles\n",
    "    lower, upper = np.percentile(\n",
    "        bs_replicates,\n",
    "        [((1-confidence)/2)*100,\n",
    "            ((1-confidence)/2+confidence)*100])\n",
    "        \n",
    "    return m, upper, lower"
   ]
  },
  {
   "cell_type": "markdown",
   "metadata": {},
   "source": [
    "#### HR"
   ]
  },
  {
   "cell_type": "code",
   "execution_count": 6,
   "metadata": {},
   "outputs": [],
   "source": [
    "# Bootstrapping\n",
    "sexes = [\"Frau\",\"Mann\"]\n",
    "hr_bs = {}\n",
    "for con in [\"sit\",\"gaze\"]: hr_bs[con] = {}  # prepare nested dictionary\n",
    "\n",
    "for con in [\"sit\",\"gaze\"]:\n",
    "    for i,sex in enumerate(sexes): \n",
    "        # Draw 10000 bootstrap replicates\n",
    "        hr_bs[con][sex] = draw_bs_replicates(hr[con][i::2],np.mean,15000)"
   ]
  },
  {
   "cell_type": "code",
   "execution_count": 7,
   "metadata": {},
   "outputs": [
    {
     "name": "stdout",
     "output_type": "stream",
     "text": [
      "Cohens d SIT: 0.92 \n",
      "Cohens d GAZE: 0.93\n",
      "diff: 0.011184482994915035\n"
     ]
    },
    {
     "data": {
      "image/png": "[encoded data removed]",
      "text/plain": [
       "<Figure size 336x288 with 1 Axes>"
      ]
     },
     "metadata": {
      "needs_background": "light"
     },
     "output_type": "display_data"
    }
   ],
   "source": [
    "# Plot data\n",
    "horizontal_line_width=len(conditions)*0.1\n",
    "\n",
    "fig = plt.figure(figsize=(3.5,3), dpi=96)\n",
    "for j,con in enumerate([\"sit\",\"gaze\"]):\n",
    "    for i,sex in enumerate(sexes): \n",
    "        if sex == sexes[0]:\n",
    "            dis = 0\n",
    "            color = \"k\"\n",
    "        elif sex == sexes[1]:\n",
    "            dis = 0.2\n",
    "            color = \"grey\"\n",
    "        m, upper, lower = confidence_interval(hr_bs[con][sex])\n",
    "        plt.plot(dis+j, m, 'o', color=color)\n",
    "        plt.plot([dis+j, dis+j], [upper, lower], color=color, label = sex if j == 0 else \"\")\n",
    "        # Horizontal bar\n",
    "        left = dis+j - horizontal_line_width / 2\n",
    "        right = dis+j + horizontal_line_width / 2\n",
    "        plt.plot([left, right], [upper, upper], color=color)\n",
    "        plt.plot([left, right], [lower, lower], color=color)\n",
    "    plt.xticks([0+dis/2, 1+dis/2], ['SIT', 'GAZE'])\n",
    "    plt.ylabel('Herzrate')\n",
    "    plt.xlabel('Versuchsbedingung')\n",
    "plt.legend(loc='center', bbox_to_anchor=(0.5, 1.12), fancybox=False, shadow=False, ncol=2)\n",
    "        \n",
    "fig.tight_layout()\n",
    "sns.despine()\n",
    "plt.savefig(\"plots/bootstrap_hr.png\", dpi=512, bbox_inches='tight')\n",
    "\n",
    "# Calculate Cohen's d between two samples\n",
    "d_sit = cohend(\n",
    "    hr[\"sit\"][0::2],\n",
    "    hr[\"sit\"][1::2])\n",
    "d_gaze = cohend(\n",
    "    hr[\"gaze\"][0::2],\n",
    "    hr[\"gaze\"][1::2])\n",
    "\n",
    "print('Cohens d SIT: %.2f' % d_sit,\n",
    "      '\\nCohens d GAZE: %.2f' % d_gaze)\n",
    "print(f'diff: {d_gaze-d_sit}')"
   ]
  },
  {
   "cell_type": "markdown",
   "metadata": {},
   "source": [
    "#### RMSSD"
   ]
  },
  {
   "cell_type": "code",
   "execution_count": 8,
   "metadata": {},
   "outputs": [],
   "source": [
    "# Bootstrapping\n",
    "rmssd_bs = {}\n",
    "\n",
    "for con in [\"sit\",\"gaze\"]:\n",
    "    # Draw 10000 bootstrap replicates\n",
    "    rmssd_bs[con] = draw_bs_replicates(rmssd[con],np.mean,15000)"
   ]
  },
  {
   "cell_type": "code",
   "execution_count": 9,
   "metadata": {},
   "outputs": [
    {
     "name": "stdout",
     "output_type": "stream",
     "text": [
      "\n",
      "Cohens d RMSSD: -0.08\n"
     ]
    },
    {
     "data": {
      "image/png": "[encoded data removed]",
      "text/plain": [
       "<Figure size 192x288 with 1 Axes>"
      ]
     },
     "metadata": {
      "needs_background": "light"
     },
     "output_type": "display_data"
    }
   ],
   "source": [
    "# Plot data\n",
    "horizontal_line_width=len(conditions)*0.3\n",
    "color=\"k\"\n",
    "\n",
    "fig = plt.figure(figsize=(2,3), dpi=96)\n",
    "for j,con in enumerate([\"sit\",\"gaze\"]):\n",
    "    # Get values for confidence interval (mean, upper, lower)\n",
    "    m, upper, lower = confidence_interval(rmssd_bs[con])\n",
    "    plt.plot(j, m, 'o', color=color)\n",
    "    plt.plot([j, j], [upper, lower], color=color)\n",
    "    # Horizontal bar\n",
    "    left = j - horizontal_line_width / 2\n",
    "    right = j + horizontal_line_width / 2\n",
    "    plt.plot([left, right], [upper, upper], color=color)\n",
    "    plt.plot([left, right], [lower, lower], color=color)\n",
    "    plt.xticks([0, 1], ['SIT', 'GAZE'])\n",
    "    plt.ylabel('RMSSD')\n",
    "    plt.xlabel('Versuchsbedingung')\n",
    "    \n",
    "        \n",
    "fig.tight_layout()\n",
    "sns.despine()\n",
    "plt.savefig(\"plots/bootstrap_rmssd.png\", dpi=512, bbox_inches='tight')\n",
    "\n",
    "# Calculate Cohen's d between two samples\n",
    "d_rmssd = cohend(rmssd[\"sit\"],\n",
    "                 rmssd[\"gaze\"])\n",
    "\n",
    "print('\\nCohens d RMSSD: %.2f' %d_rmssd)"
   ]
  },
  {
   "cell_type": "code",
   "execution_count": 10,
   "metadata": {
    "tags": []
   },
   "outputs": [
    {
     "name": "stdout",
     "output_type": "stream",
     "text": [
      "Empirical mean: 35.40100882373546\n",
      "Bootstrap replicates mean: 35.379480978562064\n"
     ]
    },
    {
     "data": {
      "image/png": "[encoded data removed]",
      "text/plain": [
       "<Figure size 432x288 with 1 Axes>"
      ]
     },
     "metadata": {
      "needs_background": "light"
     },
     "output_type": "display_data"
    }
   ],
   "source": [
    "# Sanity check\n",
    "# Print the mean of bootstrap replicates\n",
    "heights_std = np.std(rmssd[\"sit\"])\n",
    "heights_mean = np.mean(rmssd[\"sit\"])\n",
    "\n",
    "print(\"Empirical mean: \" + str(heights_mean))\n",
    "print(\"Bootstrap replicates mean: \" + str(np.mean(rmssd_bs[\"sit\"])))\n",
    "\n",
    "# Plot probability density function\n",
    "plt.hist(rmssd_bs[\"sit\"],bins=30,density=True)\n",
    "plt.axvline(x=np.percentile(rmssd_bs[\"sit\"],[2.5]), ymin=0, ymax=1,label='2.5th percentile',c='y')\n",
    "plt.axvline(x=np.percentile(rmssd_bs[\"sit\"],[97.5]), ymin=0, ymax=1,label='97.5th percentile',c='r')\n",
    "plt.xlabel(\"Height(cm)\")\n",
    "plt.ylabel(\"PDF\")\n",
    "plt.title(\"Probability Density Function\")\n",
    "plt.legend()\n",
    "plt.show()"
   ]
  }
 ],
 "metadata": {
  "colab": {
   "authorship_tag": "ABX9TyM3Ao2Nk1xkQd9wsT+4Dtbe",
   "collapsed_sections": [],
   "name": "ephnogram.ipynb",
   "provenance": []
  },
  "interpreter": {
   "hash": "5099852c2ea48d7e79043292bac7dc904323fda34ba4586c42431fdffdc130dd"
  },
  "kernelspec": {
   "display_name": "Python 3 (ipykernel)",
   "language": "python",
   "name": "python3"
  },
  "language_info": {
   "codemirror_mode": {
    "name": "ipython",
    "version": 3
   },
   "file_extension": ".py",
   "mimetype": "text/x-python",
   "name": "python",
   "nbconvert_exporter": "python",
   "pygments_lexer": "ipython3",
   "version": "3.9.12"
  }
 },
 "nbformat": 4,
 "nbformat_minor": 4
}
